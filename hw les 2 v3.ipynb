{
 "cells": [
  {
   "cell_type": "code",
   "execution_count": null,
   "metadata": {},
   "outputs": [],
   "source": [
    "# фибаначи вариант 1\n",
    "print (\" найти все числа feb до 100\")\n",
    "a,b = 0,1\n",
    "for _ in range (20):\n",
    "    if a < 100 : \n",
    "        print (a,'', end = '')\n",
    "        a,b = b, a+b"
   ]
  },
  {
   "cell_type": "code",
   "execution_count": null,
   "metadata": {},
   "outputs": [],
   "source": [
    "# фибаначи вариант 2\n",
    "print (\" найти все числа feb до 100\")\n",
    "fiblist = []\n",
    "a,b = 0,1\n",
    "for _ in range (20):\n",
    "    if a < 100 : \n",
    "        fiblist.append(a)\n",
    "        a,b = b, a+b\n",
    "print (*fiblist)\n",
    "del a,b, fiblist"
   ]
  },
  {
   "cell_type": "code",
   "execution_count": null,
   "metadata": {},
   "outputs": [],
   "source": [
    "# фибаначи вариант 3\n",
    "print (\" найти все числа feb до 100\")\n",
    "fiblist = [0, 1]\n",
    "for _ in range(100):\n",
    "    if fiblist[-1]+fiblist[-2] < 100:\n",
    "        fiblist.append( fiblist[-1] + fiblist[-2])\n",
    "print (fiblist)"
   ]
  },
  {
   "cell_type": "code",
   "execution_count": null,
   "metadata": {},
   "outputs": [],
   "source": [
    "# простые числа вариант 1\n",
    "print (\" найти все простые чила до лимита\")\n",
    "ren = input ('введите лимит поиска простых чисел ')\n",
    "ren = int(ren)\n",
    "simlist = [1,2,3]\n",
    "if (ren > 3): \n",
    "    for i in range(5,ren,2):\n",
    "        flag = 1\n",
    "        for j in range(2,i):\n",
    "            if not (i % j):\n",
    "                flag = 0\n",
    "                break\n",
    "        if flag:\n",
    "            simlist.append(i)\n",
    "    print (*simlist)\n",
    "else:\n",
    "    for i in range(ren):\n",
    "        print (simlist[i],'', end = '')"
   ]
  },
  {
   "cell_type": "code",
   "execution_count": null,
   "metadata": {},
   "outputs": [],
   "source": [
    "# простые числа вариант 2\n",
    "print (\" найти все простые чила до лимита\")\n",
    "ren = input ('введите лимит поиска простых чисел ')\n",
    "ren = int(ren)\n",
    "listraw = list(range(1,ren))\n",
    "for i in range (1,len (listraw)):\n",
    "    if listraw[i]:\n",
    "        for j in  range (i+1,len (listraw)):\n",
    "            if listraw[j]:\n",
    "                if  not (listraw[j] % listraw[i]):\n",
    "                    listraw[j] = 0\n",
    "for i in range (len (listraw)):\n",
    "    if listraw[i]:\n",
    "        print (listraw[i],'', end = '')"
   ]
  },
  {
   "cell_type": "code",
   "execution_count": null,
   "metadata": {},
   "outputs": [],
   "source": [
    "# простые числа вариант 3\n",
    "print (\" найти все простые чила до лимита\")\n",
    "ren = input ('введите лимит поиска простых чисел ')\n",
    "ren = int(ren)\n",
    "listraw = [1]\n",
    "for i in range (2,ren):\n",
    "    flag = 1\n",
    "    for j in  range (1,len(listraw)):\n",
    "        if  not (i % listraw[j]):\n",
    "            flag = 0\n",
    "    if flag:\n",
    "        listraw.append(i)\n",
    "for i in range (len(listraw)):\n",
    "    print (listraw[i],'', end = '')"
   ]
  },
  {
   "cell_type": "code",
   "execution_count": null,
   "metadata": {},
   "outputs": [],
   "source": [
    "# простые числа вариант 4\n",
    "print (\" найти все простые чила до лимита\")\n",
    "ren = input ('введите лимит поиска простых чисел ')\n",
    "ren = int(ren)\n",
    "listraw = [1]\n",
    "for _ in range (2,ren):\n",
    "    listraw.append(_)\n",
    "    for j in  range (1,len(listraw)-1):\n",
    "        if  not ( _  % listraw[j]):\n",
    "            listraw.pop(-1)\n",
    "            break\n",
    "print (*listraw)"
   ]
  },
  {
   "cell_type": "code",
   "execution_count": null,
   "metadata": {},
   "outputs": [],
   "source": [
    "sumnum = 0\n",
    "print (\" найти сумму цифр числа digit\")\n",
    "pislo = input ('enter digit ')\n",
    "for _ in pislo:\n",
    "    sumnum += int(_)\n",
    "print (sumnum) "
   ]
  }
 ],
 "metadata": {
  "kernelspec": {
   "display_name": "Python 3",
   "language": "python",
   "name": "python3"
  },
  "language_info": {
   "codemirror_mode": {
    "name": "ipython",
    "version": 3
   },
   "file_extension": ".py",
   "mimetype": "text/x-python",
   "name": "python",
   "nbconvert_exporter": "python",
   "pygments_lexer": "ipython3",
   "version": "3.8.0"
  }
 },
 "nbformat": 4,
 "nbformat_minor": 2
}
