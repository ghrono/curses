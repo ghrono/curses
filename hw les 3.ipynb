{
 "cells": [
  {
   "cell_type": "code",
   "execution_count": null,
   "metadata": {},
   "outputs": [],
   "source": [
    "# Гипотеза Коллатца ( поиск числа с максимальной длиной траектории )\n",
    "\n",
    "digit = int (input( ' enter lim numbers '))\n",
    "slov = {1 : 0}\n",
    "maxi = 1\n",
    "maxv = 0\n",
    "#digit = 10 ** \n",
    "#digit =  1000000   Number =  837799  iter =  524 [Finished in 1.4s]\n",
    "#digit =  10000000  Number =  8400511 iter =  685 [Finished in 13.0s]\n",
    "print ('digit = ', digit)\n",
    "for i in range (2, digit):\n",
    "    iteration = 0\n",
    "    numb = i\n",
    "    while numb > 1:\n",
    "        iteration += 1\n",
    "        if not numb % 2:\n",
    "            numb /= 2\n",
    "            if numb < i:\n",
    "                iteration += slov.get(numb) \n",
    "                break\n",
    "        else:\n",
    "            numb = numb * 3 + 1\n",
    "    slov[i] = iteration\n",
    "    if iteration > maxv:\n",
    "        maxi = i\n",
    "        maxv = slov.get(i)\n",
    "print ('Number = ',maxi,' trajectory = ',maxv)\n"
   ]
  },
  {
   "cell_type": "code",
   "execution_count": null,
   "metadata": {},
   "outputs": [],
   "source": [
    "digit = input ( ' enter the digit ' )\n",
    "digit = int (digit)\n",
    "count = 0\n",
    "if 0 < digit <= 45 :\n",
    "    i = 10000\n",
    "    while count < 5 and i < 100000 :\n",
    "        if sum([int(_) for _ in str (i)]) == digit:\n",
    "            print (str(i))\n",
    "            count += 1\n",
    "        i += 1\n",
    "else:\n",
    "    if digit == 0:\n",
    "        print ('00000')\n",
    "    else:\n",
    "        print (' incorrect data entered ')"
   ]
  }
 ],
 "metadata": {
  "kernelspec": {
   "display_name": "Python 3",
   "language": "python",
   "name": "python3"
  },
  "language_info": {
   "codemirror_mode": {
    "name": "ipython",
    "version": 3
   },
   "file_extension": ".py",
   "mimetype": "text/x-python",
   "name": "python",
   "nbconvert_exporter": "python",
   "pygments_lexer": "ipython3",
   "version": "3.8.0"
  }
 },
 "nbformat": 4,
 "nbformat_minor": 2
}
