{
 "cells": [
  {
   "cell_type": "code",
   "execution_count": null,
   "metadata": {},
   "outputs": [],
   "source": [
    "# Гипотеза Коллатца ( поиск числа с максимальной длиной траектории )\n",
    "\n",
    "digit = int (input( ' enter lim numbers '))\n",
    "trajectory_list = [0]\n",
    "for number in range (2, digit):\n",
    "    trajectory_list.append(0)\n",
    "    trajectory = number\n",
    "    while trajectory > 1:\n",
    "        trajectory_list[-1] += 1\n",
    "        if not trajectory % 2:\n",
    "            trajectory /= 2\n",
    "            if trajectory < number:\n",
    "                trajectory_list[-1] += trajectory_list[ int( trajectory) -1]\n",
    "                break\n",
    "        else:\n",
    "            trajectory = trajectory * 3 + 1\n",
    "\n",
    "m = trajectory_list.index(max(trajectory_list))\n",
    "print ('Digit = ',m,' trajectory = ',trajectory_list[m] )"
   ]
  },
  {
   "cell_type": "code",
   "execution_count": null,
   "metadata": {},
   "outputs": [],
   "source": [
    "digit = input ( ' enter the digit ' )\n",
    "digit = int (digit)\n",
    "count = 0\n",
    "if 0 < digit <= 45 :\n",
    "    i = 10000\n",
    "    while count < 5 and i < 100000 :\n",
    "        if sum([int(_) for _ in str (i)]) == digit:\n",
    "            print (str(i))\n",
    "            count += 1\n",
    "        i += 1\n",
    "else:\n",
    "    if digit == 0:\n",
    "        print ('00000')\n",
    "    else:\n",
    "        print (' incorrect data entered ')"
   ]
  }
 ],
 "metadata": {
  "kernelspec": {
   "display_name": "Python 3",
   "language": "python",
   "name": "python3"
  },
  "language_info": {
   "codemirror_mode": {
    "name": "ipython",
    "version": 3
   },
   "file_extension": ".py",
   "mimetype": "text/x-python",
   "name": "python",
   "nbconvert_exporter": "python",
   "pygments_lexer": "ipython3",
   "version": "3.8.0"
  }
 },
 "nbformat": 4,
 "nbformat_minor": 2
}
