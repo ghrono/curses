{
 "cells": [
  {
   "cell_type": "code",
   "execution_count": 11,
   "metadata": {},
   "outputs": [
    {
     "name": "stdout",
     "output_type": "stream",
     "text": [
      "2\n",
      "9\n",
      "14\n"
     ]
    }
   ],
   "source": [
    "def get_summ_digits():\n",
    "    summ_digits = 0\n",
    "    \n",
    "    def summix(digit):\n",
    "        nonlocal summ_digits\n",
    "        summ_digits += digit\n",
    "        return summ_digits\n",
    "    \n",
    "    return summix\n",
    "\n",
    "\n",
    "ff = get_summ_digits()\n",
    "\n",
    "print (ff (2))\n",
    "print (ff (7))\n",
    "print (ff (5))"
   ]
  },
  {
   "cell_type": "code",
   "execution_count": 41,
   "metadata": {},
   "outputs": [],
   "source": [
    "def add_salat(fun):\n",
    "    def new_fun():\n",
    "        print( 'salat' )\n",
    "        fun()\n",
    "        print( 'salat' )\n",
    "    return new_fun"
   ]
  },
  {
   "cell_type": "code",
   "execution_count": 42,
   "metadata": {},
   "outputs": [],
   "source": [
    "def add_tomat(fun):\n",
    "    def new_fun():\n",
    "        print ('tomat')\n",
    "        fun()\n",
    "        print ('tomat')\n",
    "    return new_fun"
   ]
  },
  {
   "cell_type": "code",
   "execution_count": 43,
   "metadata": {},
   "outputs": [],
   "source": [
    "def add_buther(fun):\n",
    "    def new_fun():\n",
    "        print ( 'buther')\n",
    "        fun()\n",
    "        print ( 'buther')\n",
    "    return new_fun"
   ]
  },
  {
   "cell_type": "code",
   "execution_count": 44,
   "metadata": {},
   "outputs": [],
   "source": [
    "@add_buther\n",
    "@add_tomat\n",
    "@add_salat\n",
    "def meat():\n",
    "    print ('meat')"
   ]
  },
  {
   "cell_type": "code",
   "execution_count": 45,
   "metadata": {},
   "outputs": [
    {
     "name": "stdout",
     "output_type": "stream",
     "text": [
      "buther\n",
      "tomat\n",
      "salat\n",
      "meat\n",
      "salat\n",
      "tomat\n",
      "buther\n"
     ]
    }
   ],
   "source": [
    "meat()"
   ]
  }
 ],
 "metadata": {
  "kernelspec": {
   "display_name": "Python 3",
   "language": "python",
   "name": "python3"
  },
  "language_info": {
   "codemirror_mode": {
    "name": "ipython",
    "version": 3
   },
   "file_extension": ".py",
   "mimetype": "text/x-python",
   "name": "python",
   "nbconvert_exporter": "python",
   "pygments_lexer": "ipython3",
   "version": "3.8.0"
  }
 },
 "nbformat": 4,
 "nbformat_minor": 2
}
