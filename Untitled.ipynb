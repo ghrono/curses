{
 "cells": [
  {
   "cell_type": "code",
   "execution_count": 8,
   "metadata": {},
   "outputs": [
    {
     "name": "stdout",
     "output_type": "stream",
     "text": [
      " enter lim numbers 60000\n",
      "digit =  60000\n",
      "Number =  52527  iter =  339\n"
     ]
    }
   ],
   "source": [
    "# Гипотеза Коллатца\n",
    "\n",
    "digit = int (input( ' enter lim numbers '))\n",
    "slov = {1 : 0}\n",
    "maxi = 1\n",
    "maxv = 0\n",
    "#digit = 10 ** \n",
    "#digit =  1000000   Number =  837799  iter =  524 [Finished in 1.4s]\n",
    "#digit =  10000000  Number =  8400511 iter =  685 [Finished in 13.0s]\n",
    "print ('digit = ', digit)\n",
    "for i in range (2, digit):\n",
    "    iteration = 0\n",
    "    numb = i\n",
    "    while numb > 1:\n",
    "\t\titeration += 1\n",
    "\t\tif not numb % 2:\n",
    "\t\t\tnumb /= 2\n",
    "\t\t\tif numb < i:\n",
    "\t\t\t\titeration += slov.get(numb) \n",
    "\t\t\t\tbreak\n",
    "\t\telse:\n",
    "\t\t\tnumb = numb * 3 + 1\n",
    "\tslov[i] = iteration\n",
    "\tif iteration > maxv:\n",
    "\t\tmaxi = i\n",
    "\t\tmaxv = slov.get(i)\n",
    "print ('Number = ',maxi,' iter = ',maxv)\n"
   ]
  }
 ],
 "metadata": {
  "kernelspec": {
   "display_name": "Python 3",
   "language": "python",
   "name": "python3"
  },
  "language_info": {
   "codemirror_mode": {
    "name": "ipython",
    "version": 3
   },
   "file_extension": ".py",
   "mimetype": "text/x-python",
   "name": "python",
   "nbconvert_exporter": "python",
   "pygments_lexer": "ipython3",
   "version": "3.8.0"
  }
 },
 "nbformat": 4,
 "nbformat_minor": 2
}
