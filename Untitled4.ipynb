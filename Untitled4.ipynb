{
 "cells": [
  {
   "cell_type": "code",
   "execution_count": null,
   "metadata": {},
   "outputs": [],
   "source": [
    "from socket import socket\n",
    "\n",
    "client = socket()\n",
    "client.connect(('192.168.19.82', 5000))\n",
    "client.send( \"foo кирилица, bar\".encode = 'Windows-1251')"
   ]
  },
  {
   "cell_type": "code",
   "execution_count": null,
   "metadata": {},
   "outputs": [],
   "source": [
    "from socket import socket\n",
    "from time import sleep\n",
    "\n",
    "\tclient = socket()\n",
    "#\t178.121.77.112\n",
    "\tclient.connect(('http://8a2ccc25.ngrok.io', 80))\n",
    "\twhile True:\n",
    "\t   \tprint(client.recv(2).decode('1251'), end ='')"
   ]
  }
 ],
 "metadata": {
  "kernelspec": {
   "display_name": "Python 3",
   "language": "python",
   "name": "python3"
  },
  "language_info": {
   "codemirror_mode": {
    "name": "ipython",
    "version": 3
   },
   "file_extension": ".py",
   "mimetype": "text/x-python",
   "name": "python",
   "nbconvert_exporter": "python",
   "pygments_lexer": "ipython3",
   "version": "3.8.0"
  }
 },
 "nbformat": 4,
 "nbformat_minor": 2
}
