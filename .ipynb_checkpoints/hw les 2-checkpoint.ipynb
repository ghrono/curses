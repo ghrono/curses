{
 "cells": [
  {
   "cell_type": "code",
   "execution_count": 23,
   "metadata": {
    "scrolled": true
   },
   "outputs": [
    {
     "name": "stdout",
     "output_type": "stream",
     "text": [
      " найти все числа feb до 100\n",
      "0 1 1 2 3 5 8 13 21 34 55 89 \n"
     ]
    }
   ],
   "source": [
    "#вариант 1\n",
    "print (\" найти все числа feb до 100\")\n",
    "a,b = 0,1\n",
    "for _ in range (20):\n",
    "\tprint (a, '', end = '')\n",
    "\tif b > 100 : \n",
    "\t\tbreak\n",
    "\ta,b = b, a+b\n",
    "print ()"
   ]
  },
  {
   "cell_type": "code",
   "execution_count": 21,
   "metadata": {},
   "outputs": [
    {
     "name": "stdout",
     "output_type": "stream",
     "text": [
      " найти все числа feb до 100\n",
      "0 1 1 2 3 5 8 13 21 34 55 89 \n"
     ]
    }
   ],
   "source": [
    "#вариант 2\n",
    "print (\" найти все числа feb до 100\")\n",
    "fiblist = [0 ,1]\n",
    "for _ in range(20):\n",
    "\tfiblist.append( int( fiblist[-1]) + int( fiblist[-2]) )\n",
    "\tif int( fiblist[_] ) > 100:\n",
    "\t\tbreak\n",
    "\tprint(fiblist[_],'', end = '')\n",
    "print ()"
   ]
  },
  {
   "cell_type": "code",
   "execution_count": 22,
   "metadata": {},
   "outputs": [
    {
     "name": "stdout",
     "output_type": "stream",
     "text": [
      " найти все числа feb до 100\n",
      "0 1 1 2 3 5 8 13 21 34 55 89 \n"
     ]
    }
   ],
   "source": [
    "#вариант 3\n",
    "print (\" найти все числа feb до 100\")\n",
    "fiblist = [0 ,1]\n",
    "for _ in range(20):\n",
    "\tfiblist.append( int( fiblist[-1]) + int( fiblist[-2]) )\n",
    "\tif int( fiblist[_] ) < 100:\n",
    "\t\tprint(fiblist[_],'', end = '')\n",
    "print ()"
   ]
  },
  {
   "cell_type": "code",
   "execution_count": 16,
   "metadata": {},
   "outputs": [
    {
     "name": "stdout",
     "output_type": "stream",
     "text": [
      " найти все простые чила до лимита\n",
      " введите лимит поиска простых чисел 70\n",
      "1 2 3 5 7 11 13 17 19 23 29 31 37 41 43 47 53 59 61 67\n"
     ]
    }
   ],
   "source": [
    "#вариант 1\n",
    "print (\" найти все простые чила до лимита\")\n",
    "ren = input (' введите лимит поиска простых чисел ')\t\n",
    "ren = int(ren)\n",
    "simlist = [1, 2, 3,]\n",
    "if (ren > 3): \n",
    "\tfor i in range(5,ren,2):\n",
    "\t\tflag = 1\n",
    "\t\tfor j in range(2,i):\n",
    "\t\t\tif not (i % j):\n",
    "\t\t\t\tflag = 0\n",
    "\t\t\t\tbreak\n",
    "\t\tif flag:\n",
    "\t\t\tsimlist.append(i)\n",
    "print (*simlist)"
   ]
  },
  {
   "cell_type": "code",
   "execution_count": 17,
   "metadata": {},
   "outputs": [
    {
     "name": "stdout",
     "output_type": "stream",
     "text": [
      " найти все простые чила до лимита\n",
      "введите лимит поиска простых чисел 70\n",
      "1 2 3 5 7 11 13 17 19 23 29 31 37 41 43 47 53 59 61 67 \n"
     ]
    }
   ],
   "source": [
    "#вариант 2\n",
    "print (\" найти все простые чила до лимита\")\n",
    "ren = input ('введите лимит поиска простых чисел ')\t\n",
    "ren = int(ren)\n",
    "listraw = list(range(1,ren+1))\n",
    "for i in range (1,len (listraw)):\t\n",
    "\tif listraw[i]:\n",
    "\t\tfor j in  range (i+1,len (listraw)):\n",
    "\t\t\tif listraw[j]:\n",
    "\t\t\t\tif  not (listraw[j] % listraw[i]):\n",
    "\t\t\t\t\tlistraw[j] = 0\n",
    "for i in range (len (listraw)):\n",
    "\tif listraw[i]:\n",
    "\t\tprint (listraw[i],'', end = '')\n",
    "print()"
   ]
  },
  {
   "cell_type": "code",
   "execution_count": 18,
   "metadata": {},
   "outputs": [
    {
     "name": "stdout",
     "output_type": "stream",
     "text": [
      " найти все простые чила до лимита\n",
      "введите лимит поиска простых чисел 70\n",
      "1 2 3 5 7 11 13 17 19 23 29 31 37 41 43 47 53 59 61 67 \n"
     ]
    }
   ],
   "source": [
    "#вариант 3\n",
    "print (\" найти все простые чила до лимита\")\n",
    "ren = input ('введите лимит поиска простых чисел ')\t\n",
    "ren = int(ren)\n",
    "listraw = [1]\n",
    "for i in range (2,ren+1):\t\n",
    "\tflag = 1\n",
    "\tfor j in  range (1,len(listraw)):\n",
    "\t\tif  not (i % listraw[j]):\n",
    "\t\t\tflag = 0\n",
    "\t\t\tbreak\n",
    "\tif flag:\n",
    "\t\tlistraw.append(i)\n",
    "for i in range (len(listraw)):\n",
    "\tprint (listraw[i],'', end = '')\n",
    "print ()"
   ]
  },
  {
   "cell_type": "code",
   "execution_count": 1,
   "metadata": {},
   "outputs": [
    {
     "name": "stdout",
     "output_type": "stream",
     "text": [
      " найти сувму цифр числа digit\n",
      "enter digit 123456789\n",
      "45\n"
     ]
    }
   ],
   "source": [
    "sumnum = 0\n",
    "print (\" найти сувму цифр числа digit\")\n",
    "pislo = input ('enter digit ')\n",
    "for _ in pislo:\n",
    "\tsumnum = sumnum + int(_)\n",
    "print (sumnum) "
   ]
  }
 ],
 "metadata": {
  "kernelspec": {
   "display_name": "Python 3",
   "language": "python",
   "name": "python3"
  },
  "language_info": {
   "codemirror_mode": {
    "name": "ipython",
    "version": 3
   },
   "file_extension": ".py",
   "mimetype": "text/x-python",
   "name": "python",
   "nbconvert_exporter": "python",
   "pygments_lexer": "ipython3",
   "version": "3.8.0"
  }
 },
 "nbformat": 4,
 "nbformat_minor": 2
}
