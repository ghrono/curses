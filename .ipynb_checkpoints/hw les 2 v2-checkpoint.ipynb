{
 "cells": [
  {
   "cell_type": "code",
   "execution_count": 14,
   "metadata": {},
   "outputs": [
    {
     "name": "stdout",
     "output_type": "stream",
     "text": [
      " найти все числа feb до 100\n",
      "0  1  1  2  3  5  8  13  21  34  55  89  \n"
     ]
    }
   ],
   "source": [
    "#вариант 1\n",
    "print (\" найти все числа feb до 100\")\n",
    "fiblist = [0 ,1]\n",
    "for _ in range(20):\n",
    "\tfiblist.append( int( fiblist[-1]) + int( fiblist[-2]) )\n",
    "\tif int( fiblist[_] ) > 100:\n",
    "\t\tbreak\n",
    "\tprint(fiblist[_],' ', end = '')\n",
    "print ()"
   ]
  },
  {
   "cell_type": "code",
   "execution_count": 15,
   "metadata": {},
   "outputs": [
    {
     "name": "stdout",
     "output_type": "stream",
     "text": [
      " найти все числа feb до 100\n",
      "0  1  1  2  3  5  8  13  21  34  55  89  \n"
     ]
    }
   ],
   "source": [
    "#вариант 2\n",
    "print (\" найти все числа feb до 100\")\n",
    "fiblist = [0 ,1]\n",
    "for _ in range(20):\n",
    "\tfiblist.append( int( fiblist[-1]) + int( fiblist[-2]) )\n",
    "\tif int( fiblist[_] ) < 100:\n",
    "\t\tprint(fiblist[_],' ', end = '')\n",
    "print ()"
   ]
  },
  {
   "cell_type": "code",
   "execution_count": 1,
   "metadata": {},
   "outputs": [
    {
     "name": "stdout",
     "output_type": "stream",
     "text": [
      " найти все простые чила до лимита\n",
      " введите лимит поиска простых чисел 55\n",
      "0 1 2 3 5 7 11 13 17 19 23 29 31 37 41 43 47 53\n"
     ]
    }
   ],
   "source": [
    "print (\" найти все простые чила до лимита\")\n",
    "ren = input (' введите лимит поиска простых чисел ')\t\n",
    "ren = int(ren)\n",
    "simlist = [0, 1, 2, 3,]\n",
    "if (ren > 3): \n",
    "\tfor i in range(5,ren,2):\n",
    "\t\tflag = 1\n",
    "\t\tfor j in range(2,i):\n",
    "\t\t\tif not (i % j):\n",
    "\t\t\t\tflag = 0\n",
    "\t\t\t\tbreak\n",
    "\t\tif flag:\n",
    "\t\t\tsimlist.append(i)\n",
    "print (*simlist)"
   ]
  },
  {
   "cell_type": "code",
   "execution_count": 1,
   "metadata": {},
   "outputs": [
    {
     "name": "stdout",
     "output_type": "stream",
     "text": [
      " найти сувму цифр числа digit\n",
      "enter digit 123456789\n",
      "45\n"
     ]
    }
   ],
   "source": [
    "sumnum = 0\n",
    "print (\" найти сувму цифр числа digit\")\n",
    "pislo = input ('enter digit ')\n",
    "for _ in pislo:\n",
    "\tsumnum = sumnum + int(_)\n",
    "print (sumnum) "
   ]
  }
 ],
 "metadata": {
  "kernelspec": {
   "display_name": "Python 3",
   "language": "python",
   "name": "python3"
  },
  "language_info": {
   "codemirror_mode": {
    "name": "ipython",
    "version": 3
   },
   "file_extension": ".py",
   "mimetype": "text/x-python",
   "name": "python",
   "nbconvert_exporter": "python",
   "pygments_lexer": "ipython3",
   "version": "3.8.0"
  }
 },
 "nbformat": 4,
 "nbformat_minor": 2
}
