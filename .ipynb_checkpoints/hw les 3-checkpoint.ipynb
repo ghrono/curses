{
 "cells": [
  {
   "cell_type": "code",
   "execution_count": 7,
   "metadata": {},
   "outputs": [
    {
     "name": "stdout",
     "output_type": "stream",
     "text": [
      " Enter lim numbers 1000\n",
      "Digit =  871  trajectory =  178\n"
     ]
    }
   ],
   "source": [
    "# Гипотеза Коллатца ( поиск числа с максимальной длиной траектории )\n",
    "\n",
    "digit = int (input( ' Enter lim numbers '))\n",
    "trajectory_list = [0]\n",
    "for number in range (2, digit):\n",
    "    trajectory_list.append(0)\n",
    "    trajectory = number\n",
    "    while trajectory > 1:\n",
    "        trajectory_list[-1] += 1\n",
    "        if not trajectory % 2:\n",
    "            trajectory /= 2\n",
    "            if trajectory < number:\n",
    "                trajectory_list[-1] += trajectory_list[ int( trajectory) -1]\n",
    "                break\n",
    "        else:\n",
    "            trajectory = trajectory * 3 + 1\n",
    "\n",
    "max_trajectory_index = trajectory_list.index(max(trajectory_list))\n",
    "print ('Digit = ',max_trajectory_index+1,' trajectory = ',trajectory_list[max_trajectory_index] )"
   ]
  },
  {
   "cell_type": "code",
   "execution_count": 11,
   "metadata": {},
   "outputs": [
    {
     "name": "stdout",
     "output_type": "stream",
     "text": [
      " Enter lim numbers 1000000\n",
      "Digit =  837799  trajectory =  524\n"
     ]
    }
   ],
   "source": [
    "# Гипотеза Коллатца ( поиск числа с максимальной длиной траектории )\n",
    "\n",
    "digit = int (input( ' Enter lim numbers '))\n",
    "trajectory_list = [0]\n",
    "for number in range (2, digit):\n",
    "    trajectory_list.append(0)\n",
    "    trajectory = number\n",
    "    while True:\n",
    "        trajectory_list[-1] += 1\n",
    "        if trajectory % 2:\n",
    "            trajectory = (trajectory * 3 + 1) // 2\n",
    "            trajectory_list[-1] += 1            \n",
    "        else:\n",
    "            trajectory //= 2\n",
    "            if trajectory < number:\n",
    "                trajectory_list[-1] += trajectory_list[ trajectory -1]\n",
    "                break\n",
    "max_trajectory_index = trajectory_list.index(max(trajectory_list))\n",
    "print ('Digit = ',max_trajectory_index+1,' trajectory = ',trajectory_list[max_trajectory_index] )"
   ]
  },
  {
   "cell_type": "code",
   "execution_count": null,
   "metadata": {},
   "outputs": [],
   "source": [
    "digit = input ( ' enter the digit ' )\n",
    "digit = int (digit)\n",
    "count = 0\n",
    "if 0 < digit <= 45 :\n",
    "    i = 10000\n",
    "    while count < 5 and i < 100000 :\n",
    "        if sum([int(_) for _ in str (i)]) == digit:\n",
    "            print (str(i))\n",
    "            count += 1\n",
    "        i += 1\n",
    "else:\n",
    "    if digit == 0:\n",
    "        print ('00000')\n",
    "    else:\n",
    "        print (' incorrect data entered ')"
   ]
  }
 ],
 "metadata": {
  "kernelspec": {
   "display_name": "Python 3",
   "language": "python",
   "name": "python3"
  },
  "language_info": {
   "codemirror_mode": {
    "name": "ipython",
    "version": 3
   },
   "file_extension": ".py",
   "mimetype": "text/x-python",
   "name": "python",
   "nbconvert_exporter": "python",
   "pygments_lexer": "ipython3",
   "version": "3.8.0"
  }
 },
 "nbformat": 4,
 "nbformat_minor": 2
}
