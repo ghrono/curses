{
 "cells": [
  {
   "cell_type": "code",
   "execution_count": 7,
   "metadata": {},
   "outputs": [],
   "source": [
    "class Student:\n",
    "    def __init__(self, name, mark):\n",
    "        self._name = name\n",
    "        self.mark = mark\n",
    "        self.right = None\n",
    "        self.left = None\n",
    "\n",
    "        @property\n",
    "        def name(self):\n",
    "            return self._name\n",
    "        \n",
    "        @name.setter\n",
    "        def name(self, value):\n",
    "            if value.isalpha():\n",
    "                self._name = value\n",
    "            else:\n",
    "                raise ValueError ('name was be only latter')\n",
    "        \n",
    "        def __repr__(self):\n",
    "            return self._name\n",
    "\n",
    "        def __gt__(self, other):\n",
    "            return self.main > other.mark\n",
    "\n",
    "    "
   ]
  },
  {
   "cell_type": "markdown",
   "metadata": {},
   "source": [
    "s1 = Student('Egor', 5)\n",
    "s2 = Student('Vlad', 6)\n",
    "s3 = Student('32ffZZ',50)"
   ]
  },
  {
   "cell_type": "code",
   "execution_count": null,
   "metadata": {},
   "outputs": [],
   "source": []
  }
 ],
 "metadata": {
  "kernelspec": {
   "display_name": "Python 3",
   "language": "python",
   "name": "python3"
  },
  "language_info": {
   "codemirror_mode": {
    "name": "ipython",
    "version": 3
   },
   "file_extension": ".py",
   "mimetype": "text/x-python",
   "name": "python",
   "nbconvert_exporter": "python",
   "pygments_lexer": "ipython3",
   "version": "3.8.0"
  }
 },
 "nbformat": 4,
 "nbformat_minor": 2
}
