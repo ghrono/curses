{
 "cells": [
  {
   "cell_type": "code",
   "execution_count": 1,
   "metadata": {},
   "outputs": [],
   "source": [
    "import logging"
   ]
  },
  {
   "cell_type": "code",
   "execution_count": 3,
   "metadata": {},
   "outputs": [],
   "source": [
    "logging.basicConfig(\n",
    "    format=\"%(asctime)s: %(levelname)s: %(message)s\",\n",
    "    level=logging.WARNING,\n",
    "    datefmt=\"%Y-%m-%d %A %H:%M:%S\",\n",
    "    filename=\"test_logs.log\")"
   ]
  },
  {
   "cell_type": "code",
   "execution_count": 4,
   "metadata": {},
   "outputs": [],
   "source": [
    "for i in range(10):\n",
    "    logging.info('info')\n",
    "    logging.warning(i)\n",
    "    logging.error('hello')"
   ]
  },
  {
   "cell_type": "markdown",
   "metadata": {},
   "source": [
    "grep -B 2 6 test_logs.log\n",
    "grep -C 2 6 test_logs.log\n",
    "grep -A 2 6 test_logs.log\n",
    "grep -i 2 6 test_logs.log"
   ]
  },
  {
   "cell_type": "markdown",
   "metadata": {},
   "source": [
    "***"
   ]
  },
  {
   "cell_type": "code",
   "execution_count": 1,
   "metadata": {},
   "outputs": [],
   "source": [
    "import logging"
   ]
  },
  {
   "cell_type": "code",
   "execution_count": 2,
   "metadata": {},
   "outputs": [],
   "source": [
    "logger = logging.getLogger('CheckCustomer')\n",
    "form = logging.Formatter('%(asctime)s@%(name)s@%(levelname)s@%(message)s@%(filename)s',\n",
    "                         \"%Y-%m-%d %A %H:%M:%S\")\n",
    "\n",
    "fh = logging.FileHandler('check_customer.log')\n",
    "fh.setFormatter(form)\n",
    "fh.setLevel(logging.WARNING)\n",
    "\n",
    "ch = logging.StreamHandler()\n",
    "ch.setFormatter(form)\n",
    "ch.setLevel(logging.INFO)\n",
    "\n",
    "logger.addHandler(fh)\n",
    "logger.addHandler(ch)"
   ]
  },
  {
   "cell_type": "code",
   "execution_count": 3,
   "metadata": {},
   "outputs": [
    {
     "name": "stderr",
     "output_type": "stream",
     "text": [
      "2019-12-23 Monday 19:24:55@CheckCustomer@WARNING@hello warming@<ipython-input-3-55c70e4220d4>\n"
     ]
    }
   ],
   "source": [
    "logger.warning(\"hello warming\")"
   ]
  },
  {
   "cell_type": "code",
   "execution_count": 4,
   "metadata": {},
   "outputs": [
    {
     "name": "stderr",
     "output_type": "stream",
     "text": [
      "2019-12-23 Monday 19:22:24 - CheckCustomer - ERROR - hello error - lib.py\n"
     ]
    }
   ],
   "source": [
    "import lib"
   ]
  },
  {
   "cell_type": "code",
   "execution_count": null,
   "metadata": {},
   "outputs": [],
   "source": []
  },
  {
   "cell_type": "code",
   "execution_count": null,
   "metadata": {},
   "outputs": [],
   "source": []
  },
  {
   "cell_type": "code",
   "execution_count": 4,
   "metadata": {},
   "outputs": [],
   "source": [
    "logger = logging.getLogger('CheckLogger')\n",
    "form = logging.Formatter('%(asctime)s@%(levelname)s@%(message)s',\n",
    "                         \"%Y-%m-%d %A %H:%M:%S\")\n",
    "\n",
    "fh = logging.FileHandler('check_info.log')\n",
    "fh.setFormatter(form)\n",
    "fh.setLevel(logging.INFO)\n",
    "\n",
    "ch = logging.FileHandler('check_critical.log')\n",
    "ch.setFormatter(form)\n",
    "ch.setLevel(logging.CRITICAL)\n",
    "\n",
    "logger.addHandler(fh)\n",
    "logger.addHandler(ch)"
   ]
  },
  {
   "cell_type": "code",
   "execution_count": 5,
   "metadata": {},
   "outputs": [],
   "source": [
    "logger.warning('hello warnign')"
   ]
  },
  {
   "cell_type": "code",
   "execution_count": 6,
   "metadata": {},
   "outputs": [],
   "source": [
    "logger.critical('hello crirtical')"
   ]
  },
  {
   "cell_type": "markdown",
   "metadata": {},
   "source": [
    "***"
   ]
  },
  {
   "cell_type": "code",
   "execution_count": 7,
   "metadata": {},
   "outputs": [],
   "source": [
    "#TDD  test drive development\n",
    "\n",
    "def fact(x):\n",
    "    '''\n",
    "    >>> fact(5)\n",
    "    120\n",
    "    >>> fact(3)\n",
    "    6\n",
    "    >>> fact(-1)\n",
    "    Traceback (most recent call last):\n",
    "        ...\n",
    "    AssertionError: x must be not negative\n",
    "    '''\n",
    "    assert x >= 0, \"x must be not negative\"\n",
    "    return x * fact(x - 1) if x else 1"
   ]
  },
  {
   "cell_type": "code",
   "execution_count": 5,
   "metadata": {},
   "outputs": [],
   "source": [
    "from doctest import testmod"
   ]
  },
  {
   "cell_type": "code",
   "execution_count": 8,
   "metadata": {},
   "outputs": [
    {
     "data": {
      "text/plain": [
       "TestResults(failed=0, attempted=3)"
      ]
     },
     "execution_count": 8,
     "metadata": {},
     "output_type": "execute_result"
    }
   ],
   "source": [
    "testmod()"
   ]
  },
  {
   "cell_type": "code",
   "execution_count": 15,
   "metadata": {},
   "outputs": [],
   "source": [
    "import unittest"
   ]
  },
  {
   "cell_type": "code",
   "execution_count": 16,
   "metadata": {},
   "outputs": [
    {
     "name": "stderr",
     "output_type": "stream",
     "text": [
      "E\n",
      "======================================================================\n",
      "ERROR: C:\\Users\\Student\\AppData\\Roaming\\jupyter\\runtime\\kernel-0f1f0c26-db53-41cd-ad5e-6e71ec8319db (unittest.loader._FailedTest)\n",
      "----------------------------------------------------------------------\n",
      "AttributeError: module '__main__' has no attribute 'C:\\Users\\Student\\AppData\\Roaming\\jupyter\\runtime\\kernel-0f1f0c26-db53-41cd-ad5e-6e71ec8319db'\n",
      "\n",
      "----------------------------------------------------------------------\n",
      "Ran 1 test in 0.004s\n",
      "\n",
      "FAILED (errors=1)\n"
     ]
    },
    {
     "ename": "SystemExit",
     "evalue": "True",
     "output_type": "error",
     "traceback": [
      "An exception has occurred, use %tb to see the full traceback.\n",
      "\u001b[1;31mSystemExit\u001b[0m\u001b[1;31m:\u001b[0m True\n"
     ]
    },
    {
     "name": "stderr",
     "output_type": "stream",
     "text": [
      "c:\\users\\student\\appdata\\local\\programs\\python\\python37-32\\lib\\site-packages\\IPython\\core\\interactiveshell.py:3275: UserWarning: To exit: use 'exit', 'quit', or Ctrl-D.\n",
      "  warn(\"To exit: use 'exit', 'quit', or Ctrl-D.\", stacklevel=1)\n"
     ]
    }
   ],
   "source": [
    "def fact(x):\n",
    "    assert x >= 0, \"x must be not negative\"\n",
    "    return x * fact(x - 1) if x else 1\n",
    "\n",
    "class Mytest(unittest.TestCase):\n",
    "    def first_test(self):\n",
    "        self.assertEqual(fact(5), 120)\n",
    "        \n",
    "    def second_test(self):\n",
    "        self.assertEqual(fact(3), 6)\n",
    "    \n",
    "    def assert_test(self):\n",
    "        self.assertRaises(fact, AssertionError, args=(-1,))\n",
    "\n",
    "unittest.main()"
   ]
  },
  {
   "cell_type": "code",
   "execution_count": 17,
   "metadata": {},
   "outputs": [],
   "source": [
    "def fact(x):\n",
    "    assert isinstance(x, int), \"type x must be integer\"\n",
    "    assert x >= 0, \"x must be not negative\"\n",
    "    return x * fact(x - 1) if x else 1\n",
    "\n",
    "class Mytest(unittest.TestCase):\n",
    "    def test_second(self):\n",
    "        return self.assertEqual(fact(5), 120)\n",
    "\n",
    "    def test_first(self):\n",
    "        return self.assertEqual(fact(3), 6)\n",
    "\n",
    "    def test_assert(self):\n",
    "        return self.assertRaises(AssertionError, fact, -1)\n",
    "\n",
    "    def test_type(self):\n",
    "        return self.assertRaises(AssertionError, fact, \"hello\")\n",
    "\n",
    "    def test_error(self):\n",
    "        return self.assertEqual(5, 5)\n",
    "\n",
    "unittest.main()"
   ]
  },
  {
   "cell_type": "markdown",
   "metadata": {},
   "source": [
    "***"
   ]
  },
  {
   "cell_type": "code",
   "execution_count": 18,
   "metadata": {},
   "outputs": [],
   "source": [
    "import requests\n",
    "from bs4 import BeautifulSoup"
   ]
  },
  {
   "cell_type": "code",
   "execution_count": 21,
   "metadata": {},
   "outputs": [],
   "source": [
    "req = requests.get('https://kinogo.by/')\n",
    "soup = BeautifulSoup(req.text)"
   ]
  },
  {
   "cell_type": "code",
   "execution_count": 28,
   "metadata": {},
   "outputs": [
    {
     "name": "stdout",
     "output_type": "stream",
     "text": [
      "https://kinogo.by//uploads/cache/2/2/f/9/8/2/e/0/e/1576844848_1044004-200x300.jpg\n",
      "https://kinogo.by//uploads/cache/b/2/0/7/5/c/d/5/d/1567117563_14879_joker-poster-200x300.jpg\n",
      "https://kinogo.by//uploads/cache/4/0/f/2/c/8/1/0/9/1570566000-716519078-zombilend-kontrolnyy-vystrel-KINOGO_BY-200x300.jpg\n",
      "https://kinogo.by//uploads/cache/1/6/5/1/2/d/6/7/d/1570492911-1190866394-gemini-KINOGO_BY-200x300.jpg\n",
      "https://kinogo.by//uploads/cache/9/c/c/0/3/0/7/9/3/1576279785-1783184031-shestero-vne-zakona-KINOGO_BY-200x300.jpg\n",
      "https://kinogo.by//uploads/cache/0/7/3/2/4/d/e/a/a/1576229910-1626961934-kod-8-KINOGO_BY-1-200x300.jpg\n",
      "https://kinogo.by//uploads/cache/3/2/b/1/d/7/e/4/5/1569376680-1749231637-k-zvezdam-KINOGO_BY-200x300.jpg\n",
      "https://kinogo.by//uploads/cache/d/4/4/b/6/b/a/8/d/1575204695-2124616450-tekst-KINOGO_BY-200x300.jpg\n",
      "https://kinogo.by//uploads/cache/a/0/5/a/d/f/e/7/5/1567710807-1342672891-ya-idu-iskat-KINOGO_BY-200x300.jpg\n",
      "https://kinogo.by//uploads/cache/5/4/4/2/2/9/7/2/e/1573496752-923398433-lenin-neizbezhnost-KINOGO_BY-200x300.jpg\n",
      "https://kinogo.by//uploads/cache/1/8/8/c/3/2/b/c/8/1574941466-657527027-irlandec-KINOGO_BY-200x300.jpg\n",
      "https://kinogo.by//uploads/cache/0/f/3/7/3/7/8/a/c/1568814319-2012698960-schegol-KINOGO_BY-200x300.jpg\n"
     ]
    }
   ],
   "source": [
    "all_url = []\n",
    "\n",
    "for div in soup.find_all('div', {'class':'overlaytumb'}):\n",
    "    src = \"https://kinogo.by/\" + div.find('img').get('src')\n",
    "    all_url.append(src)\n",
    "    print(src)"
   ]
  },
  {
   "cell_type": "code",
   "execution_count": 33,
   "metadata": {},
   "outputs": [],
   "source": [
    "from os import makedirs, path\n",
    "folder_name = 'imgs'\n",
    "\n",
    "if not path.exists(folder_name):\n",
    "    makedirs(folder_name)"
   ]
  },
  {
   "cell_type": "code",
   "execution_count": 30,
   "metadata": {},
   "outputs": [],
   "source": [
    "for index, img_url in enumerate(all_url):\n",
    "    req = requests.get(img_url)\n",
    "    with open(folder_name + \"/\" + str(index) + \".jpg\", \"bw\") as file:\n",
    "        file.write(req.content)"
   ]
  },
  {
   "cell_type": "code",
   "execution_count": 34,
   "metadata": {},
   "outputs": [],
   "source": [
    "url = \"https://cdndl.zaycev.net/dl/3767963/g2DsRaW3G3sgvjMHobxjm0mGH2scMMZ_ForIcyDUpG5Hs2E59H-p05rxi9tMffNoyMzoR3XRbzcFcwA9LdM4qoyLoaasYY7r3NfBG47TuLLAqmoj7Np0fUaqyonnqsYCynKW_VFateqifeTU4slmbhHLamSMm-h5DyN1RGWfil3ofpNV2hpjB11YjQciCHLnQIGC6Q/6iQmSDg0we81yhJqqx0VeivheLWmA7NyrsjzJaY2_pCeKp-eQK6p-5iw-ye3e-ZtgnKu8x2aei4JsE4nskOuH2N-sHLhq07T\""
   ]
  },
  {
   "cell_type": "code",
   "execution_count": 35,
   "metadata": {},
   "outputs": [],
   "source": [
    "req = requests.get(url).content"
   ]
  },
  {
   "cell_type": "code",
   "execution_count": 36,
   "metadata": {},
   "outputs": [],
   "source": [
    "with open(folder_name + \"/\" + \"file.mp3\", \"wb\") as file:\n",
    "    file.write(req)"
   ]
  },
  {
   "cell_type": "code",
   "execution_count": 37,
   "metadata": {},
   "outputs": [],
   "source": [
    "url = \"https://zaycev.net/musicset/dl/2d5c3dd7854f9dd30cbdf1fd0594064c/16403531.json\""
   ]
  },
  {
   "cell_type": "code",
   "execution_count": 39,
   "metadata": {},
   "outputs": [],
   "source": [
    "req = requests.get(url)"
   ]
  }
 ],
 "metadata": {
  "kernelspec": {
   "display_name": "Python 3",
   "language": "python",
   "name": "python3"
  },
  "language_info": {
   "codemirror_mode": {
    "name": "ipython",
    "version": 3
   },
   "file_extension": ".py",
   "mimetype": "text/x-python",
   "name": "python",
   "nbconvert_exporter": "python",
   "pygments_lexer": "ipython3",
   "version": "3.7.2"
  }
 },
 "nbformat": 4,
 "nbformat_minor": 2
}
