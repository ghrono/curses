{
 "cells": [
  {
   "cell_type": "code",
   "execution_count": 5,
   "metadata": {},
   "outputs": [
    {
     "name": "stdout",
     "output_type": "stream",
     "text": [
      "810 ms ± 54.3 ms per loop (mean ± std. dev. of 7 runs, 1 loop each)\n"
     ]
    }
   ],
   "source": [
    "%%timeit\n",
    "limit = 10 ** 4\n",
    "max_steps = 0\n",
    "best_digit = 0\n",
    "\n",
    "for digit in range(2, limit):\n",
    "    origin_digit = digit\n",
    "    steps = 0\n",
    "    while digit != 1:\n",
    "        if digit % 2 == 0:\n",
    "            digit /= 2\n",
    "        else:\n",
    "            digit = digit * 3 + 1\n",
    "        steps += 1\n",
    "    if steps > max_steps:\n",
    "        max_steps = steps\n",
    "        best_digit = origin_digit\n",
    "\n",
    "#best_digit, max_steps"
   ]
  },
  {
   "cell_type": "code",
   "execution_count": 7,
   "metadata": {},
   "outputs": [
    {
     "name": "stdout",
     "output_type": "stream",
     "text": [
      "464 ms ± 30.8 ms per loop (mean ± std. dev. of 7 runs, 1 loop each)\n"
     ]
    }
   ],
   "source": [
    "%%timeit\n",
    "limit = 10 ** 4\n",
    "max_steps = 0\n",
    "best_digit = 0\n",
    "\n",
    "for digit in range(2, limit):\n",
    "    origin_digit = digit\n",
    "    steps = 0\n",
    "    while digit != 1:\n",
    "        if digit % 2:\n",
    "            digit = digit * 3 + 1\n",
    "        else:\n",
    "            digit //= 2\n",
    "        steps += 1\n",
    "    if steps > max_steps:\n",
    "        max_steps = steps\n",
    "        best_digit = origin_digit\n",
    "\n",
    "#best_digit, max_steps"
   ]
  },
  {
   "cell_type": "code",
   "execution_count": 8,
   "metadata": {},
   "outputs": [
    {
     "name": "stdout",
     "output_type": "stream",
     "text": [
      "361 ms ± 23.7 ms per loop (mean ± std. dev. of 7 runs, 1 loop each)\n"
     ]
    }
   ],
   "source": [
    "%%timeit\n",
    "limit = 10 ** 4\n",
    "max_steps = 0\n",
    "best_digit = 0\n",
    "\n",
    "for digit in range(2, limit):\n",
    "    origin_digit = digit\n",
    "    steps = 0\n",
    "    while digit != 1:\n",
    "        if digit % 2:\n",
    "            digit = (digit * 3 + 1) // 2\n",
    "            steps += 2\n",
    "        else:\n",
    "            digit //= 2\n",
    "            steps += 1\n",
    "    if steps > max_steps:\n",
    "        max_steps = steps\n",
    "        best_digit = origin_digit\n",
    "\n",
    "#best_digit, max_steps"
   ]
  },
  {
   "cell_type": "code",
   "execution_count": 10,
   "metadata": {},
   "outputs": [
    {
     "name": "stdout",
     "output_type": "stream",
     "text": [
      "CPU times: user 952 ms, sys: 40 ms, total: 992 ms\n",
      "Wall time: 991 ms\n"
     ]
    }
   ],
   "source": [
    "%%time\n",
    "limit = 10 ** 6  #6.5\n",
    "digit2steps = {1:0}\n",
    "\n",
    "for digit in range(2, limit):\n",
    "    origin_digit = digit\n",
    "    steps = 0\n",
    "    while True:\n",
    "        if digit % 2:\n",
    "            digit = (digit * 3 + 1) // 2\n",
    "            steps += 2\n",
    "        else:\n",
    "            digit //= 2\n",
    "            steps += 1\n",
    "        if digit < origin_digit:\n",
    "            digit2steps[origin_digit] = digit2steps[digit] + steps\n",
    "            break\n",
    "\n",
    "#max(digit2steps.items(), key=lambda x: x[1])"
   ]
  },
  {
   "cell_type": "code",
   "execution_count": 11,
   "metadata": {},
   "outputs": [
    {
     "name": "stdout",
     "output_type": "stream",
     "text": [
      "CPU times: user 604 ms, sys: 28 ms, total: 632 ms\n",
      "Wall time: 632 ms\n"
     ]
    }
   ],
   "source": [
    "%%time\n",
    "def collatz(limit):\n",
    "    digit2steps = {1:0}\n",
    "\n",
    "    for digit in range(2, limit):\n",
    "        origin_digit = digit\n",
    "        steps = 0\n",
    "        while True:\n",
    "            if digit % 2:\n",
    "                digit = (digit * 3 + 1) // 2\n",
    "                steps += 2\n",
    "            else:\n",
    "                digit //= 2\n",
    "                steps += 1\n",
    "            if digit < origin_digit:\n",
    "                digit2steps[origin_digit] = digit2steps[digit] + steps\n",
    "                break\n",
    "    return #max(digit2steps.items(), key=lambda x: x[1]) \n",
    "\n",
    "collatz(10 ** 6)"
   ]
  },
  {
   "cell_type": "code",
   "execution_count": 12,
   "metadata": {},
   "outputs": [
    {
     "name": "stdout",
     "output_type": "stream",
     "text": [
      "CPU times: user 144 ms, sys: 4 ms, total: 148 ms\n",
      "Wall time: 147 ms\n"
     ]
    },
    {
     "data": {
      "text/plain": [
       "(77031, 350)"
      ]
     },
     "execution_count": 12,
     "metadata": {},
     "output_type": "execute_result"
    }
   ],
   "source": [
    "%%time\n",
    "def stop(digit, origin_digit):\n",
    "    return digit < origin_digit\n",
    "\n",
    "def check_digit(digit, steps):\n",
    "    if digit % 2:\n",
    "        digit = (digit * 3 + 1) // 2\n",
    "        steps += 2\n",
    "    else:\n",
    "        digit //= 2\n",
    "        steps += 1\n",
    "    return digit, steps\n",
    "\n",
    "\n",
    "def collatz(limit):\n",
    "    digit2steps = {1:0}\n",
    "    for digit in range(2, limit):\n",
    "        origin_digit = digit\n",
    "        steps = 0\n",
    "        while True:\n",
    "            digit, steps = check_digit(digit, steps)\n",
    "            if stop(digit, origin_digit):\n",
    "                digit2steps[origin_digit] = digit2steps[digit] + steps\n",
    "                break\n",
    "    return max(digit2steps.items(), key=lambda x: x[1]) \n",
    "\n",
    "collatz(10 ** 5)"
   ]
  },
  {
   "cell_type": "markdown",
   "metadata": {},
   "source": [
    "***"
   ]
  },
  {
   "cell_type": "code",
   "execution_count": 20,
   "metadata": {},
   "outputs": [
    {
     "name": "stdout",
     "output_type": "stream",
     "text": [
      "6\n"
     ]
    }
   ],
   "source": [
    "x = 5\n",
    "def hello():\n",
    "    global x\n",
    "    x += 1\n",
    "    print(x)\n",
    "\n",
    "hello()"
   ]
  },
  {
   "cell_type": "code",
   "execution_count": 22,
   "metadata": {},
   "outputs": [
    {
     "name": "stdout",
     "output_type": "stream",
     "text": [
      "7\n"
     ]
    }
   ],
   "source": [
    "x = 5\n",
    "def hello():\n",
    "    x = 6\n",
    "    def fun():\n",
    "        nonlocal x\n",
    "        x += 1\n",
    "        print(x)\n",
    "    fun()\n",
    "hello()"
   ]
  },
  {
   "cell_type": "code",
   "execution_count": 30,
   "metadata": {},
   "outputs": [
    {
     "name": "stdout",
     "output_type": "stream",
     "text": [
      "8\n"
     ]
    }
   ],
   "source": [
    "def hello():\n",
    "    global y\n",
    "    y = 8\n",
    "    \n",
    "hello()\n",
    "print(y)"
   ]
  },
  {
   "cell_type": "code",
   "execution_count": 47,
   "metadata": {},
   "outputs": [
    {
     "name": "stdout",
     "output_type": "stream",
     "text": [
      "4\n"
     ]
    }
   ],
   "source": [
    "def hello():\n",
    "    def fun():\n",
    "        global r\n",
    "        r = 3\n",
    "    fun()\n",
    "    global r\n",
    "    r += 1\n",
    "    print(r)\n",
    "hello()"
   ]
  },
  {
   "cell_type": "code",
   "execution_count": 48,
   "metadata": {},
   "outputs": [],
   "source": [
    "all_digits = []\n",
    "def avg(digit):\n",
    "    all_digits.append(digit)\n",
    "    return sum(all_digits) / len(all_digits)"
   ]
  },
  {
   "cell_type": "code",
   "execution_count": 49,
   "metadata": {},
   "outputs": [
    {
     "data": {
      "text/plain": [
       "3.0"
      ]
     },
     "execution_count": 49,
     "metadata": {},
     "output_type": "execute_result"
    }
   ],
   "source": [
    "avg(3)"
   ]
  },
  {
   "cell_type": "code",
   "execution_count": 50,
   "metadata": {},
   "outputs": [
    {
     "data": {
      "text/plain": [
       "2.5"
      ]
     },
     "execution_count": 50,
     "metadata": {},
     "output_type": "execute_result"
    }
   ],
   "source": [
    "avg(2)"
   ]
  },
  {
   "cell_type": "code",
   "execution_count": 51,
   "metadata": {},
   "outputs": [
    {
     "data": {
      "text/plain": [
       "3.0"
      ]
     },
     "execution_count": 51,
     "metadata": {},
     "output_type": "execute_result"
    }
   ],
   "source": [
    "avg(4)"
   ]
  },
  {
   "cell_type": "code",
   "execution_count": 55,
   "metadata": {},
   "outputs": [],
   "source": [
    "def get_avg():\n",
    "    all_digits = []\n",
    "    def avg(digit):\n",
    "        all_digits.append(digit)\n",
    "        return sum(all_digits) / len(all_digits)\n",
    "    return avg"
   ]
  },
  {
   "cell_type": "code",
   "execution_count": 60,
   "metadata": {},
   "outputs": [],
   "source": [
    "global_avg = get_avg()"
   ]
  },
  {
   "cell_type": "code",
   "execution_count": 62,
   "metadata": {},
   "outputs": [
    {
     "data": {
      "text/plain": [
       "5.5"
      ]
     },
     "execution_count": 62,
     "metadata": {},
     "output_type": "execute_result"
    }
   ],
   "source": [
    "global_avg(1)"
   ]
  },
  {
   "cell_type": "code",
   "execution_count": 63,
   "metadata": {},
   "outputs": [],
   "source": [
    "def get_writer_row():\n",
    "    row = \"\"\n",
    "    def writer_row(sym):\n",
    "        nonlocal row\n",
    "        row += sym\n",
    "        return row\n",
    "    return writer_row"
   ]
  },
  {
   "cell_type": "code",
   "execution_count": 64,
   "metadata": {},
   "outputs": [],
   "source": [
    "global_writer = get_writer_row()"
   ]
  },
  {
   "cell_type": "code",
   "execution_count": 68,
   "metadata": {},
   "outputs": [
    {
     "data": {
      "text/plain": [
       "'avvtu'"
      ]
     },
     "execution_count": 68,
     "metadata": {},
     "output_type": "execute_result"
    }
   ],
   "source": [
    "global_writer('u')"
   ]
  },
  {
   "cell_type": "code",
   "execution_count": 69,
   "metadata": {},
   "outputs": [],
   "source": [
    "manu_fans = [get_writer_row(), get_writer_row(), get_writer_row()]"
   ]
  },
  {
   "cell_type": "code",
   "execution_count": 79,
   "metadata": {},
   "outputs": [
    {
     "data": {
      "text/plain": [
       "'-6'"
      ]
     },
     "execution_count": 79,
     "metadata": {},
     "output_type": "execute_result"
    }
   ],
   "source": [
    "manu_fans[2]('6')"
   ]
  },
  {
   "cell_type": "code",
   "execution_count": 80,
   "metadata": {},
   "outputs": [],
   "source": [
    "def get_sum_digit():\n",
    "    digit = 0\n",
    "    def sum_digit(input_digit):\n",
    "        nonlocal digit\n",
    "        digit += input_digit\n",
    "        return digit\n",
    "    return sum_digit"
   ]
  },
  {
   "cell_type": "code",
   "execution_count": 91,
   "metadata": {},
   "outputs": [
    {
     "data": {
      "text/plain": [
       "5"
      ]
     },
     "execution_count": 91,
     "metadata": {},
     "output_type": "execute_result"
    }
   ],
   "source": [
    "get_sum_digit()(5)"
   ]
  },
  {
   "cell_type": "code",
   "execution_count": 92,
   "metadata": {},
   "outputs": [],
   "source": [
    "f = lambda x: bool([set(x.lower()[i:i+2]) for i in range(len(x) - 2) if len(set(x.lower()[i:i+2])) == 1]) or set(x.lower()) == 1"
   ]
  },
  {
   "cell_type": "code",
   "execution_count": 94,
   "metadata": {},
   "outputs": [
    {
     "data": {
      "text/plain": [
       "False"
      ]
     },
     "execution_count": 94,
     "metadata": {},
     "output_type": "execute_result"
    }
   ],
   "source": [
    "def f(row):\n",
    "    sym_arr = [row[i:i+2].lower() for i in range(len(row) - 1)]\n",
    "    sym_arr = [set(i) for i in sym_arr]\n",
    "    sym_arr = [len(i) for i in sym_arr]\n",
    "    return 1 in sym_arr\n",
    "#10"
   ]
  },
  {
   "cell_type": "code",
   "execution_count": null,
   "metadata": {},
   "outputs": [],
   "source": [
    "lambda x: 1 in [len(set(x[i:i+2].lower())) for i in range(len(x) - 1) if x[i:i+2].isalpha()]\n",
    "#10"
   ]
  },
  {
   "cell_type": "code",
   "execution_count": null,
   "metadata": {},
   "outputs": [],
   "source": [
    "lambda x:\"\".join([{'A':'T','G':'C','C':'G','T':'A'}[i] for i in x])\n",
    "#15"
   ]
  },
  {
   "cell_type": "code",
   "execution_count": 99,
   "metadata": {},
   "outputs": [
    {
     "data": {
      "text/plain": [
       "True"
      ]
     },
     "execution_count": 99,
     "metadata": {},
     "output_type": "execute_result"
    }
   ],
   "source": [
    "\"t\".isalpha()"
   ]
  },
  {
   "cell_type": "code",
   "execution_count": null,
   "metadata": {},
   "outputs": [],
   "source": [
    "lambda x: \"\".join(['*' if i.isalpha() else i for i in x])\n",
    "#21"
   ]
  },
  {
   "cell_type": "markdown",
   "metadata": {},
   "source": [
    "***"
   ]
  },
  {
   "cell_type": "code",
   "execution_count": 109,
   "metadata": {},
   "outputs": [],
   "source": [
    "def get_hello():\n",
    "    def hello():\n",
    "        print('hello')\n",
    "    def world():\n",
    "        print('world')\n",
    "    return hello, world"
   ]
  },
  {
   "cell_type": "code",
   "execution_count": 117,
   "metadata": {},
   "outputs": [
    {
     "name": "stdout",
     "output_type": "stream",
     "text": [
      "world\n"
     ]
    }
   ],
   "source": [
    "get_hello()[1]()"
   ]
  },
  {
   "cell_type": "code",
   "execution_count": 118,
   "metadata": {},
   "outputs": [],
   "source": [
    "def get_hello():\n",
    "    def hello():\n",
    "        def world():\n",
    "            return 'world'\n",
    "        return world\n",
    "    return hello"
   ]
  },
  {
   "cell_type": "code",
   "execution_count": 121,
   "metadata": {},
   "outputs": [
    {
     "data": {
      "text/plain": [
       "'world'"
      ]
     },
     "execution_count": 121,
     "metadata": {},
     "output_type": "execute_result"
    }
   ],
   "source": [
    "get_hello()()()"
   ]
  },
  {
   "cell_type": "code",
   "execution_count": 122,
   "metadata": {},
   "outputs": [],
   "source": [
    "def sum_digit(x, y):\n",
    "    return x + y"
   ]
  },
  {
   "cell_type": "code",
   "execution_count": 134,
   "metadata": {},
   "outputs": [],
   "source": [
    "def decorate_for_sum_digit(fun):\n",
    "    def new_fun(x, y, z):\n",
    "        old_value = fun(x, y)\n",
    "        new_value = old_value + z\n",
    "        return new_value\n",
    "    return new_fun"
   ]
  },
  {
   "cell_type": "code",
   "execution_count": 135,
   "metadata": {},
   "outputs": [],
   "source": [
    "my_new_fun = decorate_for_sum_digit(sum_digit)"
   ]
  },
  {
   "cell_type": "code",
   "execution_count": 136,
   "metadata": {},
   "outputs": [
    {
     "data": {
      "text/plain": [
       "19"
      ]
     },
     "execution_count": 136,
     "metadata": {},
     "output_type": "execute_result"
    }
   ],
   "source": [
    "my_new_fun(2,3,14)"
   ]
  },
  {
   "cell_type": "code",
   "execution_count": 188,
   "metadata": {},
   "outputs": [],
   "source": [
    "from time import time, sleep"
   ]
  },
  {
   "cell_type": "code",
   "execution_count": 189,
   "metadata": {},
   "outputs": [],
   "source": [
    "def f1():\n",
    "    sleep(1)\n",
    "    \n",
    "def f2():\n",
    "    sleep(2)"
   ]
  },
  {
   "cell_type": "code",
   "execution_count": 190,
   "metadata": {},
   "outputs": [],
   "source": [
    "def timer(fun):\n",
    "    def new_fun():\n",
    "        start_time = time()\n",
    "        fun()\n",
    "        print(time() - start_time)\n",
    "    return new_fun"
   ]
  },
  {
   "cell_type": "code",
   "execution_count": 195,
   "metadata": {},
   "outputs": [
    {
     "name": "stdout",
     "output_type": "stream",
     "text": [
      "2.000978708267212\n"
     ]
    }
   ],
   "source": [
    "timer(f2)()"
   ]
  },
  {
   "cell_type": "code",
   "execution_count": 219,
   "metadata": {},
   "outputs": [],
   "source": [
    "@timer\n",
    "def f1():\n",
    "    sleep(1)\n",
    "    print('hello')"
   ]
  },
  {
   "cell_type": "code",
   "execution_count": 220,
   "metadata": {},
   "outputs": [
    {
     "name": "stdout",
     "output_type": "stream",
     "text": [
      "hello\n",
      "1.0020756721496582\n"
     ]
    }
   ],
   "source": [
    "f1()"
   ]
  },
  {
   "cell_type": "code",
   "execution_count": 214,
   "metadata": {},
   "outputs": [
    {
     "name": "stdout",
     "output_type": "stream",
     "text": [
      "hello\n",
      "1.0037174224853516\n"
     ]
    }
   ],
   "source": [
    "f1()"
   ]
  },
  {
   "cell_type": "code",
   "execution_count": null,
   "metadata": {},
   "outputs": [],
   "source": []
  },
  {
   "cell_type": "code",
   "execution_count": null,
   "metadata": {},
   "outputs": [],
   "source": []
  },
  {
   "cell_type": "code",
   "execution_count": null,
   "metadata": {},
   "outputs": [],
   "source": []
  },
  {
   "cell_type": "code",
   "execution_count": 187,
   "metadata": {},
   "outputs": [
    {
     "data": {
      "text/plain": [
       "49.933579019767016"
      ]
     },
     "execution_count": 187,
     "metadata": {},
     "output_type": "execute_result"
    }
   ],
   "source": [
    "time() / (365 * 24 * 60 * 60)"
   ]
  },
  {
   "cell_type": "code",
   "execution_count": 186,
   "metadata": {},
   "outputs": [],
   "source": [
    "from datetime import datetime"
   ]
  },
  {
   "cell_type": "code",
   "execution_count": 177,
   "metadata": {},
   "outputs": [],
   "source": [
    "time = datetime.now()"
   ]
  },
  {
   "cell_type": "code",
   "execution_count": 183,
   "metadata": {},
   "outputs": [
    {
     "data": {
      "text/plain": [
       "'2019/25/11/21:07:45   11/25/19     November    47'"
      ]
     },
     "execution_count": 183,
     "metadata": {},
     "output_type": "execute_result"
    }
   ],
   "source": [
    "time.strftime('%Y/%d/%m/%H:%M:%S   %D     %B    %W    ')"
   ]
  },
  {
   "cell_type": "code",
   "execution_count": 3,
   "metadata": {},
   "outputs": [],
   "source": [
    "def add_salat(fun):\n",
    "    def new_fun():\n",
    "        print('salat')\n",
    "        fun()\n",
    "        print('salat')\n",
    "    return new_fun"
   ]
  },
  {
   "cell_type": "code",
   "execution_count": 4,
   "metadata": {},
   "outputs": [],
   "source": [
    "def add_tomat(fun):\n",
    "    def new_fun():\n",
    "        print('tomat')\n",
    "        fun()\n",
    "        print('tomat')\n",
    "    return new_fun"
   ]
  },
  {
   "cell_type": "code",
   "execution_count": 5,
   "metadata": {},
   "outputs": [],
   "source": [
    "def add_buther(fun):\n",
    "    def new_fun():\n",
    "        print('buther')\n",
    "        fun()\n",
    "        print('buther')\n",
    "    return new_fun"
   ]
  },
  {
   "cell_type": "code",
   "execution_count": 6,
   "metadata": {},
   "outputs": [],
   "source": [
    "@add_buther\n",
    "@add_tomat\n",
    "@add_salat\n",
    "def meat():\n",
    "    print('meat')"
   ]
  },
  {
   "cell_type": "code",
   "execution_count": 7,
   "metadata": {},
   "outputs": [
    {
     "name": "stdout",
     "output_type": "stream",
     "text": [
      "buther\n",
      "tomat\n",
      "salat\n",
      "meat\n",
      "salat\n",
      "tomat\n",
      "buther\n"
     ]
    }
   ],
   "source": [
    "meat()"
   ]
  },
  {
   "cell_type": "code",
   "execution_count": null,
   "metadata": {},
   "outputs": [],
   "source": [
    "HW  реализовать тот же фу-нал только с одним print"
   ]
  },
  {
   "cell_type": "code",
   "execution_count": 8,
   "metadata": {},
   "outputs": [],
   "source": [
    "@add_buther\n",
    "@add_tomat\n",
    "@add_salat\n",
    "def meat():\n",
    "    return('meat')"
   ]
  },
  {
   "cell_type": "code",
   "execution_count": 9,
   "metadata": {},
   "outputs": [
    {
     "name": "stdout",
     "output_type": "stream",
     "text": [
      "buther\n",
      "tomat\n",
      "salat\n",
      "salat\n",
      "tomat\n",
      "buther\n",
      "None\n"
     ]
    }
   ],
   "source": [
    "print(meat())"
   ]
  },
  {
   "cell_type": "code",
   "execution_count": null,
   "metadata": {},
   "outputs": [],
   "source": []
  }
 ],
 "metadata": {
  "kernelspec": {
   "display_name": "Python 3",
   "language": "python",
   "name": "python3"
  },
  "language_info": {
   "codemirror_mode": {
    "name": "ipython",
    "version": 3
   },
   "file_extension": ".py",
   "mimetype": "text/x-python",
   "name": "python",
   "nbconvert_exporter": "python",
   "pygments_lexer": "ipython3",
   "version": "3.8.0"
  }
 },
 "nbformat": 4,
 "nbformat_minor": 2
}
