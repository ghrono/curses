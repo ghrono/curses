{
 "cells": [
  {
   "cell_type": "code",
   "execution_count": 1,
   "metadata": {},
   "outputs": [],
   "source": [
    "from os import listdir\n",
    "from collections import defaultdict\n",
    "\n",
    "path = \"./books/\"\n",
    "all_books = listdir(path)\n",
    "\n",
    "word2name_books = defaultdict(set)\n",
    "\n",
    "for book in all_books:\n",
    "    with open(path + book) as file:\n",
    "        content = file.read().lower()\n",
    "        content = content.replace(',','')\n",
    "        content = content.replace('.','')\n",
    "        content = content.split()\n",
    "        content = set(content)\n",
    "        for word in content:\n",
    "            word2name_books[word].add(book)"
   ]
  },
  {
   "cell_type": "code",
   "execution_count": 10,
   "metadata": {},
   "outputs": [],
   "source": [
    "def find_all_words(w2b, *request):\n",
    "    if not request:\n",
    "        return None\n",
    "    response = w2b[request[0]]\n",
    "    for word in request[1:]:\n",
    "        response = response & w2b[word]\n",
    "    return response"
   ]
  },
  {
   "cell_type": "code",
   "execution_count": 17,
   "metadata": {},
   "outputs": [
    {
     "data": {
      "text/plain": [
       "set()"
      ]
     },
     "execution_count": 17,
     "metadata": {},
     "output_type": "execute_result"
    }
   ],
   "source": [
    "find_all_words(word2name_books, 'богдан', 'привет')"
   ]
  },
  {
   "cell_type": "markdown",
   "metadata": {},
   "source": [
    "***"
   ]
  },
  {
   "cell_type": "code",
   "execution_count": 40,
   "metadata": {},
   "outputs": [],
   "source": [
    "s = {76, 34, 90, 12, 45, 67, \"user\", \"Bogdan\", \"name\", \"Larisa\"}"
   ]
  },
  {
   "cell_type": "code",
   "execution_count": 41,
   "metadata": {},
   "outputs": [
    {
     "data": {
      "text/plain": [
       "{12, 34, 45, 67, 76, 90, 'Bogdan', 'Larisa', 'name', 'user'}"
      ]
     },
     "execution_count": 41,
     "metadata": {},
     "output_type": "execute_result"
    }
   ],
   "source": [
    "s"
   ]
  },
  {
   "cell_type": "code",
   "execution_count": 43,
   "metadata": {},
   "outputs": [],
   "source": [
    "from hashlib import sha1"
   ]
  },
  {
   "cell_type": "code",
   "execution_count": 50,
   "metadata": {},
   "outputs": [],
   "source": [
    "a = sha1('Bogdan'.encode('utf-8'))"
   ]
  },
  {
   "cell_type": "code",
   "execution_count": 51,
   "metadata": {},
   "outputs": [],
   "source": [
    "b = sha1('Larisa'.encode('utf-8'))"
   ]
  },
  {
   "cell_type": "code",
   "execution_count": 56,
   "metadata": {},
   "outputs": [
    {
     "data": {
      "text/plain": [
       "True"
      ]
     },
     "execution_count": 56,
     "metadata": {},
     "output_type": "execute_result"
    }
   ],
   "source": [
    "int(a.hexdigest(), 16) < int(b.hexdigest(), 16)"
   ]
  },
  {
   "cell_type": "code",
   "execution_count": 57,
   "metadata": {},
   "outputs": [],
   "source": [
    "aa = sha1('Larisa'.encode('utf-8'))\n",
    "bb = sha1('name'.encode('utf-8'))"
   ]
  },
  {
   "cell_type": "code",
   "execution_count": 58,
   "metadata": {},
   "outputs": [
    {
     "data": {
      "text/plain": [
       "True"
      ]
     },
     "execution_count": 58,
     "metadata": {},
     "output_type": "execute_result"
    }
   ],
   "source": [
    "int(aa.hexdigest(), 16) < int(bb.hexdigest(), 16)"
   ]
  },
  {
   "cell_type": "code",
   "execution_count": 60,
   "metadata": {},
   "outputs": [
    {
     "data": {
      "text/plain": [
       "1410065412"
      ]
     },
     "execution_count": 60,
     "metadata": {},
     "output_type": "execute_result"
    }
   ],
   "source": [
    "hash(10 ** 10)"
   ]
  },
  {
   "cell_type": "markdown",
   "metadata": {},
   "source": [
    "***"
   ]
  },
  {
   "cell_type": "code",
   "execution_count": 64,
   "metadata": {},
   "outputs": [
    {
     "name": "stdout",
     "output_type": "stream",
     "text": [
      "enter the xdfg\n",
      "invalid literal for int() with base 10: 'dfg'\n",
      "finally\n"
     ]
    }
   ],
   "source": [
    "x = input('enter the x')\n",
    "\n",
    "try:\n",
    "    x = int(x)\n",
    "    print(10 / x)\n",
    "except ValueError  as ve:\n",
    "    print(*ve.args)\n",
    "except ZeroDivisionError as ze:\n",
    "    print(*ze.args)\n",
    "else:\n",
    "    print('good')\n",
    "finally:\n",
    "    print('finally')"
   ]
  },
  {
   "cell_type": "code",
   "execution_count": 65,
   "metadata": {},
   "outputs": [],
   "source": [
    "def set_age():\n",
    "    age = input('enter the age')\n",
    "    age = int(age)\n",
    "    if age < 0:\n",
    "        raise ValueError('age must be positive!!')\n",
    "    return age"
   ]
  },
  {
   "cell_type": "code",
   "execution_count": 82,
   "metadata": {},
   "outputs": [
    {
     "data": {
      "text/plain": [
       "AttributeError"
      ]
     },
     "execution_count": 82,
     "metadata": {},
     "output_type": "execute_result"
    }
   ],
   "source": [
    "AttributeError"
   ]
  },
  {
   "cell_type": "code",
   "execution_count": 73,
   "metadata": {},
   "outputs": [],
   "source": [
    "def set_age():\n",
    "    age = input('enter the age')\n",
    "    age = int(age)\n",
    "    assert age >= 0, \"age must be positive\"\n",
    "    return age"
   ]
  },
  {
   "cell_type": "code",
   "execution_count": 81,
   "metadata": {},
   "outputs": [],
   "source": [
    "assert 5 > 3, \"bal bla\""
   ]
  },
  {
   "cell_type": "code",
   "execution_count": 75,
   "metadata": {},
   "outputs": [
    {
     "name": "stdout",
     "output_type": "stream",
     "text": [
      "enter the age-5\n",
      "age must be positive\n",
      "важный код\n"
     ]
    }
   ],
   "source": [
    "try:\n",
    "    set_age()\n",
    "except ValueError as ve:\n",
    "    print(*ve.args)\n",
    "    \n",
    "except AssertionError as ae:\n",
    "    print(*ae.args)\n",
    "    \n",
    "print('важный код')"
   ]
  },
  {
   "cell_type": "markdown",
   "metadata": {},
   "source": [
    "***"
   ]
  },
  {
   "cell_type": "code",
   "execution_count": 83,
   "metadata": {},
   "outputs": [],
   "source": [
    "def my_sum(x, y):\n",
    "    assert x != y, \"x and y must be difirent digit\"\n",
    "    return x + y"
   ]
  },
  {
   "cell_type": "code",
   "execution_count": 90,
   "metadata": {},
   "outputs": [],
   "source": [
    "def my_sum(x, y):\n",
    "    if x == y:\n",
    "        raise AttributeError(\"x and y must be difirent digit\")\n",
    "    return x + y"
   ]
  },
  {
   "cell_type": "code",
   "execution_count": 89,
   "metadata": {},
   "outputs": [
    {
     "name": "stdout",
     "output_type": "stream",
     "text": [
      "x and y must be difirent digit\n",
      "hello\n"
     ]
    }
   ],
   "source": [
    "try:\n",
    "    my_sum(4, 4)\n",
    "except AssertionError as ae:\n",
    "    print(*ae.args)\n",
    "\n",
    "except AttributeError as at:\n",
    "    print(*at.args)\n",
    "    \n",
    "finally:\n",
    "    print('hello')"
   ]
  },
  {
   "cell_type": "markdown",
   "metadata": {},
   "source": [
    "***"
   ]
  },
  {
   "cell_type": "code",
   "execution_count": 2,
   "metadata": {},
   "outputs": [],
   "source": [
    "def hello():\n",
    "    print(1)\n",
    "    yield 1\n",
    "    print(2)\n",
    "    yield 2\n",
    "    print(3)\n",
    "    yield 3\n",
    "    print(4)\n",
    "    yield 4\n",
    "    print(5)\n",
    "    yield 5"
   ]
  },
  {
   "cell_type": "code",
   "execution_count": 10,
   "metadata": {},
   "outputs": [],
   "source": [
    "gen = hello()"
   ]
  },
  {
   "cell_type": "code",
   "execution_count": 16,
   "metadata": {},
   "outputs": [
    {
     "ename": "StopIteration",
     "evalue": "",
     "output_type": "error",
     "traceback": [
      "\u001b[1;31m---------------------------------------------------------------------------\u001b[0m",
      "\u001b[1;31mStopIteration\u001b[0m                             Traceback (most recent call last)",
      "\u001b[1;32m<ipython-input-16-6e72e47198db>\u001b[0m in \u001b[0;36m<module>\u001b[1;34m\u001b[0m\n\u001b[1;32m----> 1\u001b[1;33m \u001b[0mnext\u001b[0m\u001b[1;33m(\u001b[0m\u001b[0mgen\u001b[0m\u001b[1;33m)\u001b[0m\u001b[1;33m\u001b[0m\u001b[1;33m\u001b[0m\u001b[0m\n\u001b[0m",
      "\u001b[1;31mStopIteration\u001b[0m: "
     ]
    }
   ],
   "source": [
    "next(gen)"
   ]
  },
  {
   "cell_type": "code",
   "execution_count": null,
   "metadata": {},
   "outputs": [],
   "source": []
  },
  {
   "cell_type": "code",
   "execution_count": null,
   "metadata": {},
   "outputs": [],
   "source": []
  },
  {
   "cell_type": "code",
   "execution_count": null,
   "metadata": {},
   "outputs": [],
   "source": []
  },
  {
   "cell_type": "code",
   "execution_count": null,
   "metadata": {},
   "outputs": [],
   "source": []
  },
  {
   "cell_type": "code",
   "execution_count": null,
   "metadata": {},
   "outputs": [],
   "source": []
  },
  {
   "cell_type": "code",
   "execution_count": 1,
   "metadata": {},
   "outputs": [
    {
     "name": "stdout",
     "output_type": "stream",
     "text": [
      "hello Egor\n",
      "hello Pavel\n",
      "hello Egor\n",
      "hello Egor\n",
      "hello Pavel\n",
      "hello Egor\n",
      "hello Egor\n",
      "hello Pavel\n",
      "hello Egor\n",
      "hello Pavel\n"
     ]
    }
   ],
   "source": [
    "from time import time\n",
    "\n",
    "def say_hello(name, pouse):\n",
    "    start_time = time()\n",
    "    while True:\n",
    "        if time() - pouse > start_time:\n",
    "            print(f\"hello {name}\")\n",
    "            start_time = time()\n",
    "        yield\n",
    "        \n",
    "gen1 = say_hello('Egor', 3)\n",
    "gen2 = say_hello('Pavel', 5)\n",
    "\n",
    "start_time = time()\n",
    "while start_time + 21 > time():\n",
    "    next(gen1)\n",
    "    next(gen2)"
   ]
  },
  {
   "cell_type": "markdown",
   "metadata": {},
   "source": [
    "Socket\n",
    "=="
   ]
  },
  {
   "cell_type": "code",
   "execution_count": 1,
   "metadata": {},
   "outputs": [],
   "source": [
    "from socket import socket"
   ]
  },
  {
   "cell_type": "code",
   "execution_count": 2,
   "metadata": {},
   "outputs": [],
   "source": [
    "# server code\n",
    "\n",
    "server = socket()\n",
    "server.bind((\"192.168.19.82\", 5000))\n",
    "server.listen()"
   ]
  },
  {
   "cell_type": "code",
   "execution_count": null,
   "metadata": {},
   "outputs": [
    {
     "name": "stdout",
     "output_type": "stream",
     "text": [
      "accept connect by addr ('192.168.19.47', 52147)\n",
      "accept connect by addr ('192.168.19.33', 1970)\n",
      "accept connect by addr ('192.168.19.46', 2118)\n",
      "accept connect by addr ('192.168.19.59', 1925)\n",
      "accept connect by addr ('192.168.19.46', 2119)\n",
      "accept connect by addr ('192.168.19.27', 55526)\n",
      "accept connect by addr ('192.168.19.20', 2030)\n",
      "accept connect by addr ('192.168.19.43', 40340)\n",
      "accept connect by addr ('192.168.19.32', 12772)\n",
      "accept connect by addr ('192.168.19.47', 52219)\n",
      "accept connect by addr ('192.168.19.20', 2031)\n",
      "accept connect by addr ('192.168.19.27', 55543)\n",
      "accept connect by addr ('192.168.19.47', 52226)\n",
      "accept connect by addr ('192.168.19.20', 2032)\n",
      "accept connect by addr ('192.168.19.32', 12773)\n",
      "accept connect by addr ('192.168.19.47', 52234)\n",
      "accept connect by addr ('192.168.19.20', 2033)\n",
      "accept connect by addr ('192.168.19.20', 2035)\n",
      "accept connect by addr ('192.168.19.33', 1972)\n",
      "accept connect by addr ('192.168.19.43', 40350)\n",
      "accept connect by addr ('192.168.19.20', 2036)\n",
      "accept connect by addr ('192.168.19.32', 12778)\n",
      "accept connect by addr ('192.168.19.43', 40352)\n",
      "accept connect by addr ('192.168.19.43', 40354)\n",
      "accept connect by addr ('192.168.19.43', 40356)\n",
      "accept connect by addr ('192.168.19.43', 40358)\n",
      "accept connect by addr ('192.168.19.20', 2037)\n",
      "accept connect by addr ('192.168.19.43', 40362)\n",
      "accept connect by addr ('192.168.19.32', 12780)\n",
      "accept connect by addr ('192.168.19.43', 40364)\n",
      "accept connect by addr ('192.168.19.46', 2120)\n",
      "accept connect by addr ('192.168.19.43', 40366)\n",
      "accept connect by addr ('192.168.19.47', 52301)\n",
      "accept connect by addr ('192.168.19.43', 40368)\n",
      "accept connect by addr ('192.168.19.43', 40370)\n",
      "accept connect by addr ('192.168.19.32', 12783)\n",
      "accept connect by addr ('192.168.19.33', 1973)\n",
      "accept connect by addr ('192.168.19.33', 1974)\n",
      "accept connect by addr ('192.168.19.47', 52319)\n",
      "accept connect by addr ('192.168.19.33', 1975)\n",
      "accept connect by addr ('192.168.19.33', 1976)\n",
      "accept connect by addr ('192.168.19.47', 52351)\n"
     ]
    }
   ],
   "source": [
    "while True:\n",
    "    client, addr = server.accept()\n",
    "    print(f'accept connect by addr {addr}')\n",
    "    client.send(b\"hello world\")"
   ]
  },
  {
   "cell_type": "code",
   "execution_count": null,
   "metadata": {},
   "outputs": [],
   "source": [
    "# client code\n",
    "\n",
    "client = socket()\n",
    "client.connect(('192.168.19.82', 5000))\n",
    "print(client.recv(10))\n",
    "print(client.recv(1))"
   ]
  },
  {
   "cell_type": "markdown",
   "metadata": {},
   "source": [
    "***"
   ]
  },
  {
   "cell_type": "code",
   "execution_count": 1,
   "metadata": {},
   "outputs": [],
   "source": [
    "from socket import socket\n",
    "# server code\n",
    "\n",
    "server = socket()\n",
    "server.bind((\"192.168.19.82\", 5000))\n",
    "server.listen()"
   ]
  },
  {
   "cell_type": "code",
   "execution_count": null,
   "metadata": {
    "scrolled": true
   },
   "outputs": [
    {
     "name": "stdout",
     "output_type": "stream",
     "text": [
      "accept connect by addr ('192.168.19.20', 2049)\n",
      "щука дешево\n",
      "accept connect by addr ('192.168.19.46', 2127)\n",
      "пуфпуфпуф\n",
      "accept connect by addr ('192.168.19.20', 2050)\n",
      "щука дешево\n",
      "accept connect by addr ('192.168.19.27', 55964)\n",
      "ку-ку\n",
      "accept connect by addr ('192.168.19.47', 53222)\n",
      "куплю москвич\n",
      "accept connect by addr ('192.168.19.43', 40448)\n",
      "\n",
      "accept connect by addr ('192.168.19.33', 1984)\n",
      "Продам Москвич-412\n",
      "accept connect by addr ('192.168.19.27', 55974)\n",
      "куплю москвич\n",
      "accept connect by addr ('192.168.19.27', 55980)\n",
      "куплю москвичб дорого!\n",
      "accept connect by addr ('192.168.19.20', 2051)\n",
      "время панорамы\n",
      "accept connect by addr ('192.168.19.47', 53281)\n",
      "куплю bmw\n",
      "accept connect by addr ('192.168.19.27', 55986)\n",
      "куплю москвич дорого!\n",
      "accept connect by addr ('192.168.19.52', 10989)\n",
      "угнан москвич! розыск!\n",
      "accept connect by addr ('192.168.19.33', 1986)\n",
      "Продам Москвич-412 - 10 000$\n",
      "accept connect by addr ('192.168.19.27', 56022)\n",
      "москвич на запчасти\n",
      "accept connect by addr ('192.168.19.46', 2129)\n",
      "есть будка для путешествий во вр\n",
      "accept connect by addr ('192.168.19.27', 56037)\n",
      "дверь от москвича отдам бесплатн\n",
      "accept connect by addr ('192.168.19.47', 53404)\n",
      "пойдем бухать\n",
      "accept connect by addr ('192.168.19.43', 40462)\n",
      "\n",
      "accept connect by addr ('192.168.19.52', 11044)\n",
      "продам паспорт москвича\n",
      "accept connect by addr ('192.168.19.47', 53442)\n",
      "продал mersedes\n",
      "accept connect by addr ('192.168.19.27', 56074)\n",
      "деревянный руль - деревня! \n"
     ]
    }
   ],
   "source": [
    "while True:\n",
    "    client, addr = server.accept()\n",
    "    print(f'accept connect by addr {addr}')\n",
    "    msg = client.recv(32)\n",
    "    msg = msg.decode(\"1251\")\n",
    "    print(msg)"
   ]
  },
  {
   "cell_type": "code",
   "execution_count": 2,
   "metadata": {},
   "outputs": [
    {
     "data": {
      "text/plain": [
       "'hello'"
      ]
     },
     "execution_count": 2,
     "metadata": {},
     "output_type": "execute_result"
    }
   ],
   "source": [
    "# client code\n",
    "\n",
    "client = socket()\n",
    "client.connect(('192.168.19.82', 5000))\n",
    "client.send(\"привет\".encode('1251'))"
   ]
  },
  {
   "cell_type": "markdown",
   "metadata": {},
   "source": [
    "***"
   ]
  },
  {
   "cell_type": "code",
   "execution_count": 1,
   "metadata": {},
   "outputs": [],
   "source": [
    "import os\n",
    "from socket import socket\n",
    "from select import select\n",
    "\n",
    "path = \"./books/\"\n",
    "all_books = os.listdir(path)\n",
    "\n",
    "with open(path + all_books[0]) as file:\n",
    "    one_book = file.read()"
   ]
  },
  {
   "cell_type": "code",
   "execution_count": 2,
   "metadata": {},
   "outputs": [],
   "source": [
    "server = socket()\n",
    "server.bind((\"192.168.19.82\", 5000))\n",
    "server.listen()"
   ]
  },
  {
   "cell_type": "code",
   "execution_count": 3,
   "metadata": {},
   "outputs": [],
   "source": [
    "def send_msg2client(text, client):\n",
    "    index = 0\n",
    "    stop_index = len(text)\n",
    "    while True:\n",
    "        msg = text[index].encode('1251')\n",
    "        client.send(msg)\n",
    "        index += 1\n",
    "        if index == stop_index:\n",
    "            break\n",
    "        yield"
   ]
  },
  {
   "cell_type": "code",
   "execution_count": 4,
   "metadata": {},
   "outputs": [],
   "source": [
    "response = {}"
   ]
  },
  {
   "cell_type": "code",
   "execution_count": null,
   "metadata": {},
   "outputs": [],
   "source": [
    "while True:\n",
    "    ready2read, ready2write, _ = select([server], response, [])\n",
    "    \n",
    "    if ready2read:\n",
    "        client, addr = server.accept()\n",
    "        print(f'accept connect by addr {addr}')\n",
    "        response[client] = send_msg2client(one_book, client)\n",
    "    \n",
    "    for sock in ready2write:\n",
    "        try:\n",
    "            next(response[sock])\n",
    "        except StopIteration:\n",
    "            del response[sock]"
   ]
  },
  {
   "cell_type": "code",
   "execution_count": null,
   "metadata": {},
   "outputs": [
    {
     "name": "stdout",
     "output_type": "stream",
     "text": [
      "Turgenev\n",
      "Uspenskij_GI\n",
      "Korolenko\n",
      "Tolstoj_LN\n",
      "Saltykov-Schedrin\n",
      "Chekhov\n",
      "Chernyshevskij\n",
      "Grigorovich\n",
      "Leskov\n",
      "Pisemskij\n",
      "Goncharov\n",
      "Mamin-Sibiryak\n",
      "\"Ertel'\"\n",
      "Gertsen\n",
      "Garshin\n",
      "Pomyalovskij\n",
      "Dostoevskij\n",
      "Garin-Mikhajlovskij\n"
     ]
    }
   ],
   "source": [
    "# client code\n",
    "import os\n",
    "from socket import socket\n",
    "from select import select\n",
    "from time import sleep\n",
    "\n",
    "client = socket()\n",
    "client.connect(('172.28.10.51', 9090))\n",
    "while True:\n",
    "    sleep(0.01)\n",
    "    print(client.recv(2).decode('1251'), end=\"\")"
   ]
  }
 ],
 "metadata": {
  "kernelspec": {
   "display_name": "Python 3",
   "language": "python",
   "name": "python3"
  },
  "language_info": {
   "codemirror_mode": {
    "name": "ipython",
    "version": 3
   },
   "file_extension": ".py",
   "mimetype": "text/x-python",
   "name": "python",
   "nbconvert_exporter": "python",
   "pygments_lexer": "ipython3",
   "version": "3.8.0"
  }
 },
 "nbformat": 4,
 "nbformat_minor": 2
}
