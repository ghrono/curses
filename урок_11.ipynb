{
 "cells": [
  {
   "cell_type": "code",
   "execution_count": 4,
   "metadata": {},
   "outputs": [],
   "source": [
    "class Student:\n",
    "    def __init__(self, name, mark):\n",
    "        self._name = name\n",
    "        self.mark = mark\n",
    "        self.right = None\n",
    "        self.left = None\n",
    "    \n",
    "    @property\n",
    "    def name(self):\n",
    "        return self._name\n",
    "    \n",
    "    @name.setter\n",
    "    def name(self, value):\n",
    "        if value.isalpha():\n",
    "            self._name = value\n",
    "        else:\n",
    "            raise ValueError('name must be only letter')\n",
    "    \n",
    "    def __repr__(self):\n",
    "        return self._name\n",
    "\n",
    "    def __gt__(self, other):\n",
    "        if isinstance(other, self.__class__):\n",
    "            return self.mark > other.mark\n",
    "        \n",
    "        if isinstance(other, int):\n",
    "            return self.mark > other"
   ]
  },
  {
   "cell_type": "code",
   "execution_count": 5,
   "metadata": {},
   "outputs": [],
   "source": [
    "s1 = Student('Egor', 5)\n",
    "s2 = Student('Pavel', 6)"
   ]
  },
  {
   "cell_type": "code",
   "execution_count": 6,
   "metadata": {},
   "outputs": [],
   "source": [
    "s1.name = \"Kirill\""
   ]
  },
  {
   "cell_type": "code",
   "execution_count": 7,
   "metadata": {},
   "outputs": [
    {
     "data": {
      "text/plain": [
       "'Kirill'"
      ]
     },
     "execution_count": 7,
     "metadata": {},
     "output_type": "execute_result"
    }
   ],
   "source": [
    "s1.name"
   ]
  },
  {
   "cell_type": "code",
   "execution_count": 8,
   "metadata": {},
   "outputs": [
    {
     "data": {
      "text/plain": [
       "False"
      ]
     },
     "execution_count": 8,
     "metadata": {},
     "output_type": "execute_result"
    }
   ],
   "source": [
    "s1 > s2"
   ]
  },
  {
   "cell_type": "markdown",
   "metadata": {},
   "source": [
    "***"
   ]
  },
  {
   "cell_type": "code",
   "execution_count": 9,
   "metadata": {},
   "outputs": [],
   "source": [
    "class Tree:\n",
    "    def __init__(self, root):\n",
    "        self.root = root\n",
    "    \n",
    "    def add(self, new_student):\n",
    "        cursore = self.root\n",
    "        while True:\n",
    "            if new_student > cursore:\n",
    "                if cursore.right:\n",
    "                    cursore = cursore.right\n",
    "                else:\n",
    "                    cursore.right = new_student\n",
    "                    break\n",
    "            else:\n",
    "                if cursore.left:\n",
    "                    cursore = cursore.left\n",
    "                else:\n",
    "                    cursore.left = new_student\n",
    "                    break\n",
    "                    \n",
    "    def search(self, mark, cursore=None):\n",
    "        if not cursore:\n",
    "            cursore = self.root\n",
    "        while True:\n",
    "            if mark == cursore.mark:\n",
    "                return cursore\n",
    "            \n",
    "            if mark > cursore.mark:\n",
    "                if cursore.right:\n",
    "                    cursore = cursore.right\n",
    "                else:\n",
    "                    return\n",
    "            else:\n",
    "                if cursore.left:\n",
    "                    cursore = cursore.left\n",
    "                else:\n",
    "                    return\n",
    "                \n",
    "    def search_all(self, mark):\n",
    "        pass"
   ]
  },
  {
   "cell_type": "markdown",
   "metadata": {},
   "source": [
    "HW  написать method search_all находит всех студентов с заданой оценкой\n",
    "=="
   ]
  },
  {
   "cell_type": "code",
   "execution_count": 10,
   "metadata": {},
   "outputs": [],
   "source": [
    "root = Student(\"Egor\", 5)\n",
    "t = Tree(root)"
   ]
  },
  {
   "cell_type": "code",
   "execution_count": 11,
   "metadata": {},
   "outputs": [],
   "source": [
    "t.add(Student(\"Eva\", 6))\n",
    "t.add(Student(\"Pavel\", 6.5))\n",
    "t.add(Student(\"Grisha\", 5.4))\n",
    "t.add(Student(\"Evheniy\", 5.5))\n",
    "t.add(Student(\"Vova\", 6))\n",
    "t.add(Student(\"Sasha\", 8))\n",
    "t.add(Student(\"Koly\", 4))\n",
    "t.add(Student(\"Artem\", 6))"
   ]
  },
  {
   "cell_type": "code",
   "execution_count": 12,
   "metadata": {},
   "outputs": [
    {
     "name": "stdout",
     "output_type": "stream",
     "text": [
      "Egor mark is 5\n",
      "Koly mark is 4\n",
      "Eva mark is 6\n",
      "Grisha mark is 5.4\n",
      "Evheniy mark is 5.5\n",
      "Vova mark is 6\n",
      "Artem mark is 6\n",
      "Pavel mark is 6.5\n",
      "Sasha mark is 8\n"
     ]
    }
   ],
   "source": [
    "def print_tree(root):\n",
    "    print(f\"{root.name} mark is {root.mark}\")\n",
    "    if root.left:\n",
    "        print_tree(root.left)\n",
    "    if root.right:\n",
    "        print_tree(root.right)\n",
    "\n",
    "print_tree(root)"
   ]
  },
  {
   "cell_type": "code",
   "execution_count": 13,
   "metadata": {},
   "outputs": [],
   "source": [
    "t.search_all(6)"
   ]
  },
  {
   "cell_type": "code",
   "execution_count": 14,
   "metadata": {},
   "outputs": [
    {
     "data": {
      "text/plain": [
       "Grisha"
      ]
     },
     "execution_count": 14,
     "metadata": {},
     "output_type": "execute_result"
    }
   ],
   "source": [
    "t.search(5.4)"
   ]
  },
  {
   "cell_type": "code",
   "execution_count": 15,
   "metadata": {},
   "outputs": [
    {
     "data": {
      "text/plain": [
       "Evheniy"
      ]
     },
     "execution_count": 15,
     "metadata": {},
     "output_type": "execute_result"
    }
   ],
   "source": [
    "t.search(5.5)"
   ]
  },
  {
   "cell_type": "markdown",
   "metadata": {},
   "source": [
    "***"
   ]
  },
  {
   "cell_type": "code",
   "execution_count": 15,
   "metadata": {},
   "outputs": [],
   "source": [
    "class Bag:\n",
    "    def __init__(self, *args):\n",
    "        assert sum(args) <= 4, \"to much elements in bag\"\n",
    "        for name_field, value in zip(['a', 'b', 'c', 'd'], args):\n",
    "            setattr(self, name_field, value)"
   ]
  },
  {
   "cell_type": "code",
   "execution_count": 16,
   "metadata": {},
   "outputs": [],
   "source": [
    "from random import shuffle, randint\n",
    "orders = [randint(1,4) for i in range(10 ** 2)]\n",
    "shuffle(orders)"
   ]
  },
  {
   "cell_type": "markdown",
   "metadata": {},
   "source": [
    "***"
   ]
  },
  {
   "cell_type": "code",
   "execution_count": 17,
   "metadata": {},
   "outputs": [],
   "source": [
    "orders.sort()\n",
    "all_bags = []\n",
    "\n",
    "for i in range(orders.count(4)):\n",
    "    new_bag = Bag(orders.pop(orders.index(4)))\n",
    "    all_bags.append(new_bag)\n",
    "\n",
    "for i in range(orders.count(3)):\n",
    "    if orders.count(1):\n",
    "        new_bag = Bag(orders.pop(orders.index(3)), \n",
    "                      orders.pop(orders.index(1)))\n",
    "        all_bags.append(new_bag)\n",
    "\n",
    "for i in range(orders.count(2)):\n",
    "    if orders.count(2) > 1:\n",
    "        new_bag = Bag(orders.pop(orders.index(2)),\n",
    "                      orders.pop(orders.index(2)))\n",
    "        all_bags.append(new_bag)\n",
    "        \n",
    "if orders.count(2) and orders.count(1) > 1:\n",
    "    all_bags.append(Bag(orders.pop(),\n",
    "                        orders.pop(0),\n",
    "                        orders.pop(0)))\n",
    "    \n",
    "for i in range(len(orders) // 4):\n",
    "    all_bags.append(Bag(*orders[:3]))"
   ]
  },
  {
   "cell_type": "code",
   "execution_count": 18,
   "metadata": {},
   "outputs": [
    {
     "data": {
      "text/plain": [
       "[3, 3]"
      ]
     },
     "execution_count": 18,
     "metadata": {},
     "output_type": "execute_result"
    }
   ],
   "source": [
    "orders"
   ]
  },
  {
   "cell_type": "code",
   "execution_count": 70,
   "metadata": {},
   "outputs": [],
   "source": [
    "class AVG:\n",
    "    __slots__ = ['a', 'b', 'digits']\n",
    "    \n",
    "    def __init__(self):\n",
    "        self.digits = []\n",
    "    \n",
    "    def __call__(self, value):\n",
    "        self.digits.append(value)\n",
    "        return sum(self.digits) / len(self.digits)\n",
    "    \n",
    "    def __getitem__(self, index):\n",
    "        return self.digits[index]"
   ]
  },
  {
   "cell_type": "code",
   "execution_count": 71,
   "metadata": {},
   "outputs": [],
   "source": [
    "avg = AVG()"
   ]
  },
  {
   "cell_type": "code",
   "execution_count": 72,
   "metadata": {},
   "outputs": [],
   "source": [
    "avg.a = 5"
   ]
  },
  {
   "cell_type": "code",
   "execution_count": 73,
   "metadata": {},
   "outputs": [],
   "source": [
    "avg.b = 9"
   ]
  },
  {
   "cell_type": "code",
   "execution_count": 74,
   "metadata": {},
   "outputs": [
    {
     "ename": "AttributeError",
     "evalue": "'AVG' object has no attribute 'bus'",
     "output_type": "error",
     "traceback": [
      "\u001b[1;31m---------------------------------------------------------------------------\u001b[0m",
      "\u001b[1;31mAttributeError\u001b[0m                            Traceback (most recent call last)",
      "\u001b[1;32m<ipython-input-74-e088278b2d7c>\u001b[0m in \u001b[0;36m<module>\u001b[1;34m\u001b[0m\n\u001b[1;32m----> 1\u001b[1;33m \u001b[0mavg\u001b[0m\u001b[1;33m.\u001b[0m\u001b[0mbus\u001b[0m \u001b[1;33m=\u001b[0m \u001b[1;36m44\u001b[0m\u001b[1;33m\u001b[0m\u001b[1;33m\u001b[0m\u001b[0m\n\u001b[0m",
      "\u001b[1;31mAttributeError\u001b[0m: 'AVG' object has no attribute 'bus'"
     ]
    }
   ],
   "source": [
    "avg.bus = 44"
   ]
  },
  {
   "cell_type": "code",
   "execution_count": 76,
   "metadata": {},
   "outputs": [
    {
     "data": {
      "text/plain": [
       "False"
      ]
     },
     "execution_count": 76,
     "metadata": {},
     "output_type": "execute_result"
    }
   ],
   "source": [
    "hasattr(avg, \"bb\")"
   ]
  },
  {
   "cell_type": "code",
   "execution_count": 83,
   "metadata": {},
   "outputs": [
    {
     "data": {
      "text/plain": [
       "True"
      ]
     },
     "execution_count": 83,
     "metadata": {},
     "output_type": "execute_result"
    }
   ],
   "source": [
    "callable(avg)"
   ]
  },
  {
   "cell_type": "code",
   "execution_count": 84,
   "metadata": {},
   "outputs": [
    {
     "data": {
      "text/plain": [
       "False"
      ]
     },
     "execution_count": 84,
     "metadata": {},
     "output_type": "execute_result"
    }
   ],
   "source": [
    "callable(avg.digits)"
   ]
  },
  {
   "cell_type": "code",
   "execution_count": null,
   "metadata": {},
   "outputs": [],
   "source": [
    "setattr"
   ]
  },
  {
   "cell_type": "code",
   "execution_count": 85,
   "metadata": {},
   "outputs": [
    {
     "data": {
      "text/plain": [
       "[]"
      ]
     },
     "execution_count": 85,
     "metadata": {},
     "output_type": "execute_result"
    }
   ],
   "source": [
    "getattr(avg, \"digits\")"
   ]
  },
  {
   "cell_type": "code",
   "execution_count": null,
   "metadata": {},
   "outputs": [],
   "source": []
  },
  {
   "cell_type": "code",
   "execution_count": null,
   "metadata": {},
   "outputs": [],
   "source": []
  },
  {
   "cell_type": "code",
   "execution_count": 82,
   "metadata": {},
   "outputs": [
    {
     "data": {
      "text/plain": [
       "['__module__',\n",
       " '__slots__',\n",
       " '__init__',\n",
       " '__call__',\n",
       " '__getitem__',\n",
       " 'a',\n",
       " 'b',\n",
       " 'digits',\n",
       " '__doc__',\n",
       " '__repr__',\n",
       " '__hash__',\n",
       " '__str__',\n",
       " '__getattribute__',\n",
       " '__setattr__',\n",
       " '__delattr__',\n",
       " '__lt__',\n",
       " '__le__',\n",
       " '__eq__',\n",
       " '__ne__',\n",
       " '__gt__',\n",
       " '__ge__',\n",
       " '__new__',\n",
       " '__reduce_ex__',\n",
       " '__reduce__',\n",
       " '__subclasshook__',\n",
       " '__init_subclass__',\n",
       " '__format__',\n",
       " '__sizeof__',\n",
       " '__dir__',\n",
       " '__class__']"
      ]
     },
     "execution_count": 82,
     "metadata": {},
     "output_type": "execute_result"
    }
   ],
   "source": [
    "avg.__dir__()"
   ]
  },
  {
   "cell_type": "code",
   "execution_count": null,
   "metadata": {},
   "outputs": [],
   "source": []
  },
  {
   "cell_type": "code",
   "execution_count": 42,
   "metadata": {},
   "outputs": [
    {
     "data": {
      "text/plain": [
       "3.0"
      ]
     },
     "execution_count": 42,
     "metadata": {},
     "output_type": "execute_result"
    }
   ],
   "source": [
    "avg(3)"
   ]
  },
  {
   "cell_type": "code",
   "execution_count": 43,
   "metadata": {},
   "outputs": [
    {
     "name": "stdout",
     "output_type": "stream",
     "text": [
      "1\n",
      "2\n",
      "6\n",
      "3\n"
     ]
    }
   ],
   "source": [
    "for i in avg:\n",
    "    print(i)"
   ]
  }
 ],
 "metadata": {
  "kernelspec": {
   "display_name": "Python 3",
   "language": "python",
   "name": "python3"
  },
  "language_info": {
   "codemirror_mode": {
    "name": "ipython",
    "version": 3
   },
   "file_extension": ".py",
   "mimetype": "text/x-python",
   "name": "python",
   "nbconvert_exporter": "python",
   "pygments_lexer": "ipython3",
   "version": "3.7.2"
  }
 },
 "nbformat": 4,
 "nbformat_minor": 2
}
